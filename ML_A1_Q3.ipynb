{
  "nbformat": 4,
  "nbformat_minor": 0,
  "metadata": {
    "colab": {
      "name": "ML_A1_Q3.ipynb",
      "provenance": [],
      "collapsed_sections": [],
      "authorship_tag": "ABX9TyN384ZZi+pEyfUThOA9VHM2",
      "include_colab_link": true
    },
    "kernelspec": {
      "name": "python3",
      "display_name": "Python 3"
    },
    "language_info": {
      "name": "python"
    }
  },
  "cells": [
    {
      "cell_type": "markdown",
      "metadata": {
        "id": "view-in-github",
        "colab_type": "text"
      },
      "source": [
        "<a href=\"https://colab.research.google.com/github/apoorv19151/ML-Assignment-1/blob/main/ML_A1_Q3.ipynb\" target=\"_parent\"><img src=\"https://colab.research.google.com/assets/colab-badge.svg\" alt=\"Open In Colab\"/></a>"
      ]
    },
    {
      "cell_type": "markdown",
      "source": [
        "**Machine Learning Assignment-1**\n",
        "\n",
        "Answer-3 goes here, importing the required libraries and the dataset from google drive.\n",
        "\n"
      ],
      "metadata": {
        "id": "uxeSXdbcOaX6"
      }
    },
    {
      "cell_type": "code",
      "execution_count": 78,
      "metadata": {
        "colab": {
          "base_uri": "https://localhost:8080/"
        },
        "id": "28DOK2uENzEw",
        "outputId": "e7b441dd-3c74-4bf0-9d92-3a9f62264c70"
      },
      "outputs": [
        {
          "output_type": "stream",
          "name": "stdout",
          "text": [
            "Drive already mounted at /content/gdrive; to attempt to forcibly remount, call drive.mount(\"/content/gdrive\", force_remount=True).\n"
          ]
        }
      ],
      "source": [
        "from google.colab import drive\n",
        "drive.mount('/content/gdrive')"
      ]
    },
    {
      "cell_type": "code",
      "source": [
        "import pandas as pd\n",
        "import numpy as np\n",
        "from matplotlib import pyplot as plt\n",
        "\n",
        "ionosphere_data = pd.read_csv('/content/gdrive/My Drive/Colab Notebooks/ionosphere_data_kaggle.csv')\n",
        "ionosphere_data.head()"
      ],
      "metadata": {
        "colab": {
          "base_uri": "https://localhost:8080/",
          "height": 299
        },
        "id": "XHBMzgerPTD1",
        "outputId": "4b643ee9-9a0b-434a-dce2-01b08e6bfa54"
      },
      "execution_count": 79,
      "outputs": [
        {
          "output_type": "execute_result",
          "data": {
            "text/plain": [
              "   feature1  feature2  feature3  feature4  feature5  feature6  feature7  \\\n",
              "0         1         0   0.99539  -0.05889   0.85243   0.02306   0.83398   \n",
              "1         1         0   1.00000  -0.18829   0.93035  -0.36156  -0.10868   \n",
              "2         1         0   1.00000  -0.03365   1.00000   0.00485   1.00000   \n",
              "3         1         0   1.00000  -0.45161   1.00000   1.00000   0.71216   \n",
              "4         1         0   1.00000  -0.02401   0.94140   0.06531   0.92106   \n",
              "\n",
              "   feature8  feature9  feature10  ...  feature26  feature27  feature28  \\\n",
              "0  -0.37708   1.00000    0.03760  ...   -0.51171    0.41078   -0.46168   \n",
              "1  -0.93597   1.00000   -0.04549  ...   -0.26569   -0.20468   -0.18401   \n",
              "2  -0.12062   0.88965    0.01198  ...   -0.40220    0.58984   -0.22145   \n",
              "3  -1.00000   0.00000    0.00000  ...    0.90695    0.51613    1.00000   \n",
              "4  -0.23255   0.77152   -0.16399  ...   -0.65158    0.13290   -0.53206   \n",
              "\n",
              "   feature29  feature30  feature31  feature32  feature33  feature34  label  \n",
              "0    0.21266   -0.34090    0.42267   -0.54487    0.18641   -0.45300      g  \n",
              "1   -0.19040   -0.11593   -0.16626   -0.06288   -0.13738   -0.02447      b  \n",
              "2    0.43100   -0.17365    0.60436   -0.24180    0.56045   -0.38238      g  \n",
              "3    1.00000   -0.20099    0.25682    1.00000   -0.32382    1.00000      b  \n",
              "4    0.02431   -0.62197   -0.05707   -0.59573   -0.04608   -0.65697      g  \n",
              "\n",
              "[5 rows x 35 columns]"
            ],
            "text/html": [
              "\n",
              "  <div id=\"df-478552b1-67da-4258-9336-74a25ec19a71\">\n",
              "    <div class=\"colab-df-container\">\n",
              "      <div>\n",
              "<style scoped>\n",
              "    .dataframe tbody tr th:only-of-type {\n",
              "        vertical-align: middle;\n",
              "    }\n",
              "\n",
              "    .dataframe tbody tr th {\n",
              "        vertical-align: top;\n",
              "    }\n",
              "\n",
              "    .dataframe thead th {\n",
              "        text-align: right;\n",
              "    }\n",
              "</style>\n",
              "<table border=\"1\" class=\"dataframe\">\n",
              "  <thead>\n",
              "    <tr style=\"text-align: right;\">\n",
              "      <th></th>\n",
              "      <th>feature1</th>\n",
              "      <th>feature2</th>\n",
              "      <th>feature3</th>\n",
              "      <th>feature4</th>\n",
              "      <th>feature5</th>\n",
              "      <th>feature6</th>\n",
              "      <th>feature7</th>\n",
              "      <th>feature8</th>\n",
              "      <th>feature9</th>\n",
              "      <th>feature10</th>\n",
              "      <th>...</th>\n",
              "      <th>feature26</th>\n",
              "      <th>feature27</th>\n",
              "      <th>feature28</th>\n",
              "      <th>feature29</th>\n",
              "      <th>feature30</th>\n",
              "      <th>feature31</th>\n",
              "      <th>feature32</th>\n",
              "      <th>feature33</th>\n",
              "      <th>feature34</th>\n",
              "      <th>label</th>\n",
              "    </tr>\n",
              "  </thead>\n",
              "  <tbody>\n",
              "    <tr>\n",
              "      <th>0</th>\n",
              "      <td>1</td>\n",
              "      <td>0</td>\n",
              "      <td>0.99539</td>\n",
              "      <td>-0.05889</td>\n",
              "      <td>0.85243</td>\n",
              "      <td>0.02306</td>\n",
              "      <td>0.83398</td>\n",
              "      <td>-0.37708</td>\n",
              "      <td>1.00000</td>\n",
              "      <td>0.03760</td>\n",
              "      <td>...</td>\n",
              "      <td>-0.51171</td>\n",
              "      <td>0.41078</td>\n",
              "      <td>-0.46168</td>\n",
              "      <td>0.21266</td>\n",
              "      <td>-0.34090</td>\n",
              "      <td>0.42267</td>\n",
              "      <td>-0.54487</td>\n",
              "      <td>0.18641</td>\n",
              "      <td>-0.45300</td>\n",
              "      <td>g</td>\n",
              "    </tr>\n",
              "    <tr>\n",
              "      <th>1</th>\n",
              "      <td>1</td>\n",
              "      <td>0</td>\n",
              "      <td>1.00000</td>\n",
              "      <td>-0.18829</td>\n",
              "      <td>0.93035</td>\n",
              "      <td>-0.36156</td>\n",
              "      <td>-0.10868</td>\n",
              "      <td>-0.93597</td>\n",
              "      <td>1.00000</td>\n",
              "      <td>-0.04549</td>\n",
              "      <td>...</td>\n",
              "      <td>-0.26569</td>\n",
              "      <td>-0.20468</td>\n",
              "      <td>-0.18401</td>\n",
              "      <td>-0.19040</td>\n",
              "      <td>-0.11593</td>\n",
              "      <td>-0.16626</td>\n",
              "      <td>-0.06288</td>\n",
              "      <td>-0.13738</td>\n",
              "      <td>-0.02447</td>\n",
              "      <td>b</td>\n",
              "    </tr>\n",
              "    <tr>\n",
              "      <th>2</th>\n",
              "      <td>1</td>\n",
              "      <td>0</td>\n",
              "      <td>1.00000</td>\n",
              "      <td>-0.03365</td>\n",
              "      <td>1.00000</td>\n",
              "      <td>0.00485</td>\n",
              "      <td>1.00000</td>\n",
              "      <td>-0.12062</td>\n",
              "      <td>0.88965</td>\n",
              "      <td>0.01198</td>\n",
              "      <td>...</td>\n",
              "      <td>-0.40220</td>\n",
              "      <td>0.58984</td>\n",
              "      <td>-0.22145</td>\n",
              "      <td>0.43100</td>\n",
              "      <td>-0.17365</td>\n",
              "      <td>0.60436</td>\n",
              "      <td>-0.24180</td>\n",
              "      <td>0.56045</td>\n",
              "      <td>-0.38238</td>\n",
              "      <td>g</td>\n",
              "    </tr>\n",
              "    <tr>\n",
              "      <th>3</th>\n",
              "      <td>1</td>\n",
              "      <td>0</td>\n",
              "      <td>1.00000</td>\n",
              "      <td>-0.45161</td>\n",
              "      <td>1.00000</td>\n",
              "      <td>1.00000</td>\n",
              "      <td>0.71216</td>\n",
              "      <td>-1.00000</td>\n",
              "      <td>0.00000</td>\n",
              "      <td>0.00000</td>\n",
              "      <td>...</td>\n",
              "      <td>0.90695</td>\n",
              "      <td>0.51613</td>\n",
              "      <td>1.00000</td>\n",
              "      <td>1.00000</td>\n",
              "      <td>-0.20099</td>\n",
              "      <td>0.25682</td>\n",
              "      <td>1.00000</td>\n",
              "      <td>-0.32382</td>\n",
              "      <td>1.00000</td>\n",
              "      <td>b</td>\n",
              "    </tr>\n",
              "    <tr>\n",
              "      <th>4</th>\n",
              "      <td>1</td>\n",
              "      <td>0</td>\n",
              "      <td>1.00000</td>\n",
              "      <td>-0.02401</td>\n",
              "      <td>0.94140</td>\n",
              "      <td>0.06531</td>\n",
              "      <td>0.92106</td>\n",
              "      <td>-0.23255</td>\n",
              "      <td>0.77152</td>\n",
              "      <td>-0.16399</td>\n",
              "      <td>...</td>\n",
              "      <td>-0.65158</td>\n",
              "      <td>0.13290</td>\n",
              "      <td>-0.53206</td>\n",
              "      <td>0.02431</td>\n",
              "      <td>-0.62197</td>\n",
              "      <td>-0.05707</td>\n",
              "      <td>-0.59573</td>\n",
              "      <td>-0.04608</td>\n",
              "      <td>-0.65697</td>\n",
              "      <td>g</td>\n",
              "    </tr>\n",
              "  </tbody>\n",
              "</table>\n",
              "<p>5 rows × 35 columns</p>\n",
              "</div>\n",
              "      <button class=\"colab-df-convert\" onclick=\"convertToInteractive('df-478552b1-67da-4258-9336-74a25ec19a71')\"\n",
              "              title=\"Convert this dataframe to an interactive table.\"\n",
              "              style=\"display:none;\">\n",
              "        \n",
              "  <svg xmlns=\"http://www.w3.org/2000/svg\" height=\"24px\"viewBox=\"0 0 24 24\"\n",
              "       width=\"24px\">\n",
              "    <path d=\"M0 0h24v24H0V0z\" fill=\"none\"/>\n",
              "    <path d=\"M18.56 5.44l.94 2.06.94-2.06 2.06-.94-2.06-.94-.94-2.06-.94 2.06-2.06.94zm-11 1L8.5 8.5l.94-2.06 2.06-.94-2.06-.94L8.5 2.5l-.94 2.06-2.06.94zm10 10l.94 2.06.94-2.06 2.06-.94-2.06-.94-.94-2.06-.94 2.06-2.06.94z\"/><path d=\"M17.41 7.96l-1.37-1.37c-.4-.4-.92-.59-1.43-.59-.52 0-1.04.2-1.43.59L10.3 9.45l-7.72 7.72c-.78.78-.78 2.05 0 2.83L4 21.41c.39.39.9.59 1.41.59.51 0 1.02-.2 1.41-.59l7.78-7.78 2.81-2.81c.8-.78.8-2.07 0-2.86zM5.41 20L4 18.59l7.72-7.72 1.47 1.35L5.41 20z\"/>\n",
              "  </svg>\n",
              "      </button>\n",
              "      \n",
              "  <style>\n",
              "    .colab-df-container {\n",
              "      display:flex;\n",
              "      flex-wrap:wrap;\n",
              "      gap: 12px;\n",
              "    }\n",
              "\n",
              "    .colab-df-convert {\n",
              "      background-color: #E8F0FE;\n",
              "      border: none;\n",
              "      border-radius: 50%;\n",
              "      cursor: pointer;\n",
              "      display: none;\n",
              "      fill: #1967D2;\n",
              "      height: 32px;\n",
              "      padding: 0 0 0 0;\n",
              "      width: 32px;\n",
              "    }\n",
              "\n",
              "    .colab-df-convert:hover {\n",
              "      background-color: #E2EBFA;\n",
              "      box-shadow: 0px 1px 2px rgba(60, 64, 67, 0.3), 0px 1px 3px 1px rgba(60, 64, 67, 0.15);\n",
              "      fill: #174EA6;\n",
              "    }\n",
              "\n",
              "    [theme=dark] .colab-df-convert {\n",
              "      background-color: #3B4455;\n",
              "      fill: #D2E3FC;\n",
              "    }\n",
              "\n",
              "    [theme=dark] .colab-df-convert:hover {\n",
              "      background-color: #434B5C;\n",
              "      box-shadow: 0px 1px 3px 1px rgba(0, 0, 0, 0.15);\n",
              "      filter: drop-shadow(0px 1px 2px rgba(0, 0, 0, 0.3));\n",
              "      fill: #FFFFFF;\n",
              "    }\n",
              "  </style>\n",
              "\n",
              "      <script>\n",
              "        const buttonEl =\n",
              "          document.querySelector('#df-478552b1-67da-4258-9336-74a25ec19a71 button.colab-df-convert');\n",
              "        buttonEl.style.display =\n",
              "          google.colab.kernel.accessAllowed ? 'block' : 'none';\n",
              "\n",
              "        async function convertToInteractive(key) {\n",
              "          const element = document.querySelector('#df-478552b1-67da-4258-9336-74a25ec19a71');\n",
              "          const dataTable =\n",
              "            await google.colab.kernel.invokeFunction('convertToInteractive',\n",
              "                                                     [key], {});\n",
              "          if (!dataTable) return;\n",
              "\n",
              "          const docLinkHtml = 'Like what you see? Visit the ' +\n",
              "            '<a target=\"_blank\" href=https://colab.research.google.com/notebooks/data_table.ipynb>data table notebook</a>'\n",
              "            + ' to learn more about interactive tables.';\n",
              "          element.innerHTML = '';\n",
              "          dataTable['output_type'] = 'display_data';\n",
              "          await google.colab.output.renderOutput(dataTable, element);\n",
              "          const docLink = document.createElement('div');\n",
              "          docLink.innerHTML = docLinkHtml;\n",
              "          element.appendChild(docLink);\n",
              "        }\n",
              "      </script>\n",
              "    </div>\n",
              "  </div>\n",
              "  "
            ]
          },
          "metadata": {},
          "execution_count": 79
        }
      ]
    },
    {
      "cell_type": "markdown",
      "source": [
        "Now computing the mean and variance of every column in the dataset (exept target column)."
      ],
      "metadata": {
        "id": "fy9TDGOXKjGX"
      }
    },
    {
      "cell_type": "code",
      "source": [
        "X = ionosphere_data.drop('label', axis = 1)\n",
        "Y = ionosphere_data['label']\n",
        "\n",
        "col_no = 1\n",
        "for columns in X:\n",
        "  arr = np.array(X[columns])\n",
        "  print(\"Mean of feature \"+str(col_no)+\" = \"+str(np.mean(arr)))\n",
        "  print(\"Variance of feature \"+str(col_no)+\" = \"+str(np.var(arr)))\n",
        "  col_no += 1"
      ],
      "metadata": {
        "colab": {
          "base_uri": "https://localhost:8080/"
        },
        "id": "II4UkGyRTCQa",
        "outputId": "78e9590f-0628-4983-dd5f-c601b9f5d688"
      },
      "execution_count": 80,
      "outputs": [
        {
          "output_type": "stream",
          "name": "stdout",
          "text": [
            "Mean of feature 1 = 0.8917378917378918\n",
            "Variance of feature 1 = 0.0965414241767518\n",
            "Mean of feature 2 = 0.0\n",
            "Variance of feature 2 = 0.0\n",
            "Mean of feature 3 = 0.6413418518518519\n",
            "Variance of feature 3 = 0.2470077185170835\n",
            "Mean of feature 4 = 0.04437188034188035\n",
            "Variance of feature 4 = 0.19430949488649282\n",
            "Mean of feature 5 = 0.6010678917378918\n",
            "Variance of feature 5 = 0.2694860330325923\n",
            "Mean of feature 6 = 0.11588900284900285\n",
            "Variance of feature 6 = 0.2117410006967265\n",
            "Mean of feature 7 = 0.5500950712250713\n",
            "Variance of feature 7 = 0.2420162631816901\n",
            "Mean of feature 8 = 0.11936037037037038\n",
            "Variance of feature 8 = 0.2704078600468714\n",
            "Mean of feature 9 = 0.5118480911680912\n",
            "Variance of feature 9 = 0.2563829258838208\n",
            "Mean of feature 10 = 0.18134538461538463\n",
            "Variance of feature 10 = 0.23344469722656153\n",
            "Mean of feature 11 = 0.47618264957264955\n",
            "Variance of feature 11 = 0.31662351128671196\n",
            "Mean of feature 12 = 0.15504045584045584\n",
            "Variance of feature 12 = 0.24414674586076088\n",
            "Mean of feature 13 = 0.40080119658119656\n",
            "Variance of feature 13 = 0.38601267958090435\n",
            "Mean of feature 14 = 0.09341367521367522\n",
            "Variance of feature 14 = 0.24420121288934182\n",
            "Mean of feature 15 = 0.3441591452991453\n",
            "Variance of feature 15 = 0.42496997858502455\n",
            "Mean of feature 16 = 0.07113233618233618\n",
            "Variance of feature 16 = 0.20950508726576736\n",
            "Mean of feature 17 = 0.38194900284900285\n",
            "Variance of feature 17 = 0.3808609839719402\n",
            "Mean of feature 18 = -0.0036168091168091113\n",
            "Variance of feature 18 = 0.24606941254138523\n",
            "Mean of feature 19 = 0.3593896011396011\n",
            "Variance of feature 19 = 0.39109270923744777\n",
            "Mean of feature 20 = -0.024024700854700848\n",
            "Variance of feature 20 = 0.26867235378616405\n",
            "Mean of feature 21 = 0.33669547008547007\n",
            "Variance of feature 21 = 0.3708310657945796\n",
            "Mean of feature 22 = 0.008295897435897431\n",
            "Variance of feature 22 = 0.2677309407216305\n",
            "Mean of feature 23 = 0.36247549857549854\n",
            "Variance of feature 23 = 0.3634966197797372\n",
            "Mean of feature 24 = -0.05740575498575498\n",
            "Variance of feature 24 = 0.2774175465771366\n",
            "Mean of feature 25 = 0.39613467236467237\n",
            "Variance of feature 25 = 0.3336521374522431\n",
            "Mean of feature 26 = -0.0711868660968661\n",
            "Variance of feature 26 = 0.25782999975314164\n",
            "Mean of feature 27 = 0.5416407977207977\n",
            "Variance of feature 27 = 0.26570809058283945\n",
            "Mean of feature 28 = -0.06953760683760683\n",
            "Variance of feature 28 = 0.30166586521820443\n",
            "Mean of feature 29 = 0.37844518518518516\n",
            "Variance of feature 29 = 0.33069932145744435\n",
            "Mean of feature 30 = -0.027907094017094014\n",
            "Variance of feature 30 = 0.25730253498129885\n",
            "Mean of feature 31 = 0.3525137321937322\n",
            "Variance of feature 31 = 0.3256627793213984\n",
            "Mean of feature 32 = -0.003793760683760677\n",
            "Variance of feature 32 = 0.2630071749368544\n",
            "Mean of feature 33 = 0.3493636467236467\n",
            "Variance of feature 33 = 0.2723987192351345\n",
            "Mean of feature 34 = 0.014480113960113956\n",
            "Variance of feature 34 = 0.2187148549760554\n"
          ]
        }
      ]
    },
    {
      "cell_type": "markdown",
      "source": [
        "We see that feature-13, feature-15, feature-17, feature-21 and feature-23 have the highest variance, se we plot histogram plots for these features."
      ],
      "metadata": {
        "id": "jejPg3uJKzhY"
      }
    },
    {
      "cell_type": "code",
      "source": [
        "feature_13 = np.array(X['feature13'])\n",
        "\n",
        "fig, plot = plt.subplots(figsize = (10, 7))\n",
        "plot.hist(feature_13, bins = [-1.2, -1.0, -0.9, -0.8, -0.7, -0.6, -0.5, -0.4, -0.3, -0.2, -0.1, 0.0, 0.1, 0.2, 0.3, 0.4, 0.5, 0.6, 0.7, 0.8, 0.9, 1.0, 1.1, 1.2, 1.3])\n",
        "plt.title('Feature-13 Histogram')\n",
        "plt.xlabel(\"x-axis (Values)\")\n",
        "plt.ylabel(\"y-axis (Count)\")"
      ],
      "metadata": {
        "colab": {
          "base_uri": "https://localhost:8080/",
          "height": 475
        },
        "id": "VnH1EKo1aRFu",
        "outputId": "82a16d88-f683-47bf-fcba-9117dbbb628f"
      },
      "execution_count": 81,
      "outputs": [
        {
          "output_type": "execute_result",
          "data": {
            "text/plain": [
              "Text(0, 0.5, 'y-axis (Count)')"
            ]
          },
          "metadata": {},
          "execution_count": 81
        },
        {
          "output_type": "display_data",
          "data": {
            "text/plain": [
              "<Figure size 720x504 with 1 Axes>"
            ],
            "image/png": "[encoded data removed]"
          },
          "metadata": {
            "needs_background": "light"
          }
        }
      ]
    },
    {
      "cell_type": "code",
      "source": [
        "feature_15 = np.array(X['feature15'])\n",
        "\n",
        "fig, plot = plt.subplots(figsize = (10, 7))\n",
        "plot.hist(feature_15, bins = [-1.2, -1.0, -0.9, -0.8, -0.7, -0.6, -0.5, -0.4, -0.3, -0.2, -0.1, 0.0, 0.1, 0.2, 0.3, 0.4, 0.5, 0.6, 0.7, 0.8, 0.9, 1.0, 1.1, 1.2, 1.3])\n",
        "plt.title('Feature-15 Histogram')\n",
        "plt.xlabel(\"x-axis (Values)\")\n",
        "plt.ylabel(\"y-axis (Count)\")"
      ],
      "metadata": {
        "colab": {
          "base_uri": "https://localhost:8080/",
          "height": 475
        },
        "id": "cvq7VeYkcK6b",
        "outputId": "adaac613-00c1-47f3-9637-d344ccd33607"
      },
      "execution_count": 82,
      "outputs": [
        {
          "output_type": "execute_result",
          "data": {
            "text/plain": [
              "Text(0, 0.5, 'y-axis (Count)')"
            ]
          },
          "metadata": {},
          "execution_count": 82
        },
        {
          "output_type": "display_data",
          "data": {
            "text/plain": [
              "<Figure size 720x504 with 1 Axes>"
            ],
            "image/png": "[encoded data removed]"
          },
          "metadata": {
            "needs_background": "light"
          }
        }
      ]
    },
    {
      "cell_type": "code",
      "source": [
        "feature_17 = np.array(X['feature17'])\n",
        "\n",
        "fig, plot = plt.subplots(figsize = (10, 7))\n",
        "plot.hist(feature_17, bins = [-1.2, -1.0, -0.9, -0.8, -0.7, -0.6, -0.5, -0.4, -0.3, -0.2, -0.1, 0.0, 0.1, 0.2, 0.3, 0.4, 0.5, 0.6, 0.7, 0.8, 0.9, 1.0, 1.1, 1.2, 1.3])\n",
        "plt.title('Feature-17 Histogram')\n",
        "plt.xlabel(\"x-axis (Values)\")\n",
        "plt.ylabel(\"y-axis (Count)\")"
      ],
      "metadata": {
        "colab": {
          "base_uri": "https://localhost:8080/",
          "height": 475
        },
        "id": "6NZg1TdXeA1-",
        "outputId": "61d47fb7-75aa-4d76-82ef-833de7bfad9a"
      },
      "execution_count": 83,
      "outputs": [
        {
          "output_type": "execute_result",
          "data": {
            "text/plain": [
              "Text(0, 0.5, 'y-axis (Count)')"
            ]
          },
          "metadata": {},
          "execution_count": 83
        },
        {
          "output_type": "display_data",
          "data": {
            "text/plain": [
              "<Figure size 720x504 with 1 Axes>"
            ],
            "image/png": "[encoded data removed]"
          },
          "metadata": {
            "needs_background": "light"
          }
        }
      ]
    },
    {
      "cell_type": "code",
      "source": [
        "feature_21 = np.array(X['feature21'])\n",
        "\n",
        "fig, plot = plt.subplots(figsize = (10, 7))\n",
        "plot.hist(feature_21, bins = [-1.4, -1.2, -1.0, -0.9, -0.8, -0.7, -0.6, -0.5, -0.4, -0.3, -0.2, -0.1, 0.0, 0.1, 0.2, 0.3, 0.4, 0.5, 0.6, 0.7, 0.8, 0.9, 1.0, 1.1, 1.2, 1.3])\n",
        "plt.title('Feature-21 Histogram')\n",
        "plt.xlabel(\"x-axis (Values)\")\n",
        "plt.ylabel(\"y-axis (Count)\")"
      ],
      "metadata": {
        "colab": {
          "base_uri": "https://localhost:8080/",
          "height": 475
        },
        "id": "yYhS6T_weduG",
        "outputId": "5456fbab-f621-4a87-8e7a-dccc0c771c94"
      },
      "execution_count": 84,
      "outputs": [
        {
          "output_type": "execute_result",
          "data": {
            "text/plain": [
              "Text(0, 0.5, 'y-axis (Count)')"
            ]
          },
          "metadata": {},
          "execution_count": 84
        },
        {
          "output_type": "display_data",
          "data": {
            "text/plain": [
              "<Figure size 720x504 with 1 Axes>"
            ],
            "image/png": "[encoded data removed]"
          },
          "metadata": {
            "needs_background": "light"
          }
        }
      ]
    },
    {
      "cell_type": "code",
      "source": [
        "feature_23 = np.array(X['feature23'])\n",
        "\n",
        "fig, plot = plt.subplots(figsize = (10, 7))\n",
        "plot.hist(feature_23, bins = [-1.4, -1.2, -1.0, -0.9, -0.8, -0.7, -0.6, -0.5, -0.4, -0.3, -0.2, -0.1, 0.0, 0.1, 0.2, 0.3, 0.4, 0.5, 0.6, 0.7, 0.8, 0.9, 1.0, 1.1, 1.2, 1.3])\n",
        "plt.title('Feature-23 Histogram')\n",
        "plt.xlabel(\"x-axis (Values)\")\n",
        "plt.ylabel(\"y-axis (Count)\")"
      ],
      "metadata": {
        "colab": {
          "base_uri": "https://localhost:8080/",
          "height": 475
        },
        "id": "f1AH_jg5fHKX",
        "outputId": "85b6894c-ab6b-41fe-b526-dae1bb9dcfc1"
      },
      "execution_count": 85,
      "outputs": [
        {
          "output_type": "execute_result",
          "data": {
            "text/plain": [
              "Text(0, 0.5, 'y-axis (Count)')"
            ]
          },
          "metadata": {},
          "execution_count": 85
        },
        {
          "output_type": "display_data",
          "data": {
            "text/plain": [
              "<Figure size 720x504 with 1 Axes>"
            ],
            "image/png": "[encoded data removed]"
          },
          "metadata": {
            "needs_background": "light"
          }
        }
      ]
    },
    {
      "cell_type": "markdown",
      "source": [
        "In the target column y, replacing labels 'g' with 1 and labels 'b' with 0."
      ],
      "metadata": {
        "id": "sVg5kHNJMN48"
      }
    },
    {
      "cell_type": "code",
      "source": [
        "Y = Y.replace(to_replace='g', value=1)\n",
        "Y = Y.replace(to_replace='b', value=0)\n",
        "Y.head()"
      ],
      "metadata": {
        "colab": {
          "base_uri": "https://localhost:8080/"
        },
        "id": "zmnvtu9-gC8H",
        "outputId": "b3076d8a-0783-43ae-ce98-c2e5ac08a765"
      },
      "execution_count": 86,
      "outputs": [
        {
          "output_type": "execute_result",
          "data": {
            "text/plain": [
              "0    1\n",
              "1    0\n",
              "2    1\n",
              "3    0\n",
              "4    1\n",
              "Name: label, dtype: int64"
            ]
          },
          "metadata": {},
          "execution_count": 86
        }
      ]
    },
    {
      "cell_type": "markdown",
      "source": [
        "Performing normalization of data attributes and splitting the dataset into 90% training data and 10% testing data."
      ],
      "metadata": {
        "id": "EQ38fTKLMfvE"
      }
    },
    {
      "cell_type": "code",
      "source": [
        "from sklearn.model_selection import train_test_split\n",
        "from sklearn.preprocessing import MinMaxScaler\n",
        "\n",
        "feature_columns = []\n",
        "for i in range(1, 35):\n",
        "  feature_columns.append(\"feature\"+str(i))\n",
        "# print(feature_columns)\n",
        "\n",
        "norm = MinMaxScaler().fit(X)\n",
        "X_norm = norm.transform(X)\n",
        "X_norm_df = pd.DataFrame(X_norm, columns = feature_columns)\n",
        "X_train, X_test, Y_train, Y_test = train_test_split(X_norm_df, Y, test_size = 0.1)\n",
        "X_train"
      ],
      "metadata": {
        "colab": {
          "base_uri": "https://localhost:8080/",
          "height": 487
        },
        "id": "wCimZPfioo4S",
        "outputId": "1f9c6e02-184c-4b76-deca-9b8c6c1313e1"
      },
      "execution_count": 87,
      "outputs": [
        {
          "output_type": "execute_result",
          "data": {
            "text/plain": [
              "     feature1  feature2  feature3  feature4  feature5  feature6  feature7  \\\n",
              "256       1.0       0.0  0.811675  0.482550  0.795425  0.502405  0.802045   \n",
              "177       1.0       0.0  0.958335  0.645835  0.916665  0.416665  0.854165   \n",
              "133       1.0       0.0  0.673470  0.602040  0.734695  0.622450  0.704080   \n",
              "34        1.0       0.0  1.000000  0.420505  0.861570  0.638430  0.917215   \n",
              "206       1.0       0.0  0.000000  1.000000  0.000000  0.576220  0.641770   \n",
              "..        ...       ...       ...       ...       ...       ...       ...   \n",
              "289       1.0       0.0  0.874580  0.512745  0.994970  0.548960  0.879275   \n",
              "221       1.0       0.0  0.903135  0.565345  0.865305  0.621615  0.823075   \n",
              "203       1.0       0.0  1.000000  0.545455  0.977275  0.454545  0.886365   \n",
              "23        0.0       0.0  0.000000  1.000000  0.500000  0.500000  0.500000   \n",
              "322       1.0       0.0  0.950355  0.508865  1.000000  0.491135  0.950355   \n",
              "\n",
              "     feature8  feature9  feature10  ...  feature25  feature26  feature27  \\\n",
              "256  0.462695  0.815885   0.504815  ...   0.829725   0.570395   0.802315   \n",
              "177  0.625000  0.937500   0.458335  ...   0.916665   0.437500   0.918980   \n",
              "133  0.602040  0.734695   0.724490  ...   0.193880   0.612245   0.267105   \n",
              "34   0.208060  1.000000   0.358965  ...   1.000000   0.574015   1.000000   \n",
              "206  1.000000  0.000000   1.000000  ...   1.000000   0.000000   0.000000   \n",
              "..        ...       ...        ...  ...        ...        ...        ...   \n",
              "289  0.564385  0.871565   0.454060  ...   0.858820   0.493965   0.911355   \n",
              "221  0.595190  0.684615   0.727885  ...   0.425285   0.700030   0.400300   \n",
              "203  0.500000  1.000000   0.500000  ...   0.954545   0.522725   0.957705   \n",
              "23   0.500000  0.000000   1.000000  ...   0.000000   0.000000   1.000000   \n",
              "322  0.503545  0.923760   0.528370  ...   0.950355   0.523050   0.971525   \n",
              "\n",
              "     feature28  feature29  feature30  feature31  feature32  feature33  \\\n",
              "256   0.510095   0.756920   0.522260   0.808665   0.495185   0.806860   \n",
              "177   0.527515   1.000000   0.604165   0.854165   0.500000   0.854165   \n",
              "133   0.574475   0.204080   0.591835   0.326530   0.500000   0.367345   \n",
              "34    0.442090   1.000000   0.444355   1.000000   0.766860   1.000000   \n",
              "206   0.482110   1.000000   0.000000   0.000000   0.338415   0.574695   \n",
              "..         ...        ...        ...        ...        ...        ...   \n",
              "289   0.512760   0.862175   0.494635   0.952045   0.555330   0.864185   \n",
              "221   0.674880   0.380840   0.647705   0.366830   0.619480   0.380770   \n",
              "203   0.514485   0.977275   0.545455   0.931820   0.454545   0.931820   \n",
              "23    0.000000   1.000000   1.000000   0.000000   1.000000   0.500000   \n",
              "322   0.516235   0.973405   0.512410   1.000000   0.505320   0.968085   \n",
              "\n",
              "     feature34  \n",
              "256   0.454270  \n",
              "177   0.520835  \n",
              "133   0.377550  \n",
              "34    0.211210  \n",
              "206   1.000000  \n",
              "..         ...  \n",
              "289   0.513750  \n",
              "221   0.655770  \n",
              "203   0.522725  \n",
              "23    0.500000  \n",
              "322   0.510640  \n",
              "\n",
              "[315 rows x 34 columns]"
            ],
            "text/html": [
              "\n",
              "  <div id=\"df-83d53d25-7b6c-4459-86f9-60551167b3fb\">\n",
              "    <div class=\"colab-df-container\">\n",
              "      <div>\n",
              "<style scoped>\n",
              "    .dataframe tbody tr th:only-of-type {\n",
              "        vertical-align: middle;\n",
              "    }\n",
              "\n",
              "    .dataframe tbody tr th {\n",
              "        vertical-align: top;\n",
              "    }\n",
              "\n",
              "    .dataframe thead th {\n",
              "        text-align: right;\n",
              "    }\n",
              "</style>\n",
              "<table border=\"1\" class=\"dataframe\">\n",
              "  <thead>\n",
              "    <tr style=\"text-align: right;\">\n",
              "      <th></th>\n",
              "      <th>feature1</th>\n",
              "      <th>feature2</th>\n",
              "      <th>feature3</th>\n",
              "      <th>feature4</th>\n",
              "      <th>feature5</th>\n",
              "      <th>feature6</th>\n",
              "      <th>feature7</th>\n",
              "      <th>feature8</th>\n",
              "      <th>feature9</th>\n",
              "      <th>feature10</th>\n",
              "      <th>...</th>\n",
              "      <th>feature25</th>\n",
              "      <th>feature26</th>\n",
              "      <th>feature27</th>\n",
              "      <th>feature28</th>\n",
              "      <th>feature29</th>\n",
              "      <th>feature30</th>\n",
              "      <th>feature31</th>\n",
              "      <th>feature32</th>\n",
              "      <th>feature33</th>\n",
              "      <th>feature34</th>\n",
              "    </tr>\n",
              "  </thead>\n",
              "  <tbody>\n",
              "    <tr>\n",
              "      <th>256</th>\n",
              "      <td>1.0</td>\n",
              "      <td>0.0</td>\n",
              "      <td>0.811675</td>\n",
              "      <td>0.482550</td>\n",
              "      <td>0.795425</td>\n",
              "      <td>0.502405</td>\n",
              "      <td>0.802045</td>\n",
              "      <td>0.462695</td>\n",
              "      <td>0.815885</td>\n",
              "      <td>0.504815</td>\n",
              "      <td>...</td>\n",
              "      <td>0.829725</td>\n",
              "      <td>0.570395</td>\n",
              "      <td>0.802315</td>\n",
              "      <td>0.510095</td>\n",
              "      <td>0.756920</td>\n",
              "      <td>0.522260</td>\n",
              "      <td>0.808665</td>\n",
              "      <td>0.495185</td>\n",
              "      <td>0.806860</td>\n",
              "      <td>0.454270</td>\n",
              "    </tr>\n",
              "    <tr>\n",
              "      <th>177</th>\n",
              "      <td>1.0</td>\n",
              "      <td>0.0</td>\n",
              "      <td>0.958335</td>\n",
              "      <td>0.645835</td>\n",
              "      <td>0.916665</td>\n",
              "      <td>0.416665</td>\n",
              "      <td>0.854165</td>\n",
              "      <td>0.625000</td>\n",
              "      <td>0.937500</td>\n",
              "      <td>0.458335</td>\n",
              "      <td>...</td>\n",
              "      <td>0.916665</td>\n",
              "      <td>0.437500</td>\n",
              "      <td>0.918980</td>\n",
              "      <td>0.527515</td>\n",
              "      <td>1.000000</td>\n",
              "      <td>0.604165</td>\n",
              "      <td>0.854165</td>\n",
              "      <td>0.500000</td>\n",
              "      <td>0.854165</td>\n",
              "      <td>0.520835</td>\n",
              "    </tr>\n",
              "    <tr>\n",
              "      <th>133</th>\n",
              "      <td>1.0</td>\n",
              "      <td>0.0</td>\n",
              "      <td>0.673470</td>\n",
              "      <td>0.602040</td>\n",
              "      <td>0.734695</td>\n",
              "      <td>0.622450</td>\n",
              "      <td>0.704080</td>\n",
              "      <td>0.602040</td>\n",
              "      <td>0.734695</td>\n",
              "      <td>0.724490</td>\n",
              "      <td>...</td>\n",
              "      <td>0.193880</td>\n",
              "      <td>0.612245</td>\n",
              "      <td>0.267105</td>\n",
              "      <td>0.574475</td>\n",
              "      <td>0.204080</td>\n",
              "      <td>0.591835</td>\n",
              "      <td>0.326530</td>\n",
              "      <td>0.500000</td>\n",
              "      <td>0.367345</td>\n",
              "      <td>0.377550</td>\n",
              "    </tr>\n",
              "    <tr>\n",
              "      <th>34</th>\n",
              "      <td>1.0</td>\n",
              "      <td>0.0</td>\n",
              "      <td>1.000000</td>\n",
              "      <td>0.420505</td>\n",
              "      <td>0.861570</td>\n",
              "      <td>0.638430</td>\n",
              "      <td>0.917215</td>\n",
              "      <td>0.208060</td>\n",
              "      <td>1.000000</td>\n",
              "      <td>0.358965</td>\n",
              "      <td>...</td>\n",
              "      <td>1.000000</td>\n",
              "      <td>0.574015</td>\n",
              "      <td>1.000000</td>\n",
              "      <td>0.442090</td>\n",
              "      <td>1.000000</td>\n",
              "      <td>0.444355</td>\n",
              "      <td>1.000000</td>\n",
              "      <td>0.766860</td>\n",
              "      <td>1.000000</td>\n",
              "      <td>0.211210</td>\n",
              "    </tr>\n",
              "    <tr>\n",
              "      <th>206</th>\n",
              "      <td>1.0</td>\n",
              "      <td>0.0</td>\n",
              "      <td>0.000000</td>\n",
              "      <td>1.000000</td>\n",
              "      <td>0.000000</td>\n",
              "      <td>0.576220</td>\n",
              "      <td>0.641770</td>\n",
              "      <td>1.000000</td>\n",
              "      <td>0.000000</td>\n",
              "      <td>1.000000</td>\n",
              "      <td>...</td>\n",
              "      <td>1.000000</td>\n",
              "      <td>0.000000</td>\n",
              "      <td>0.000000</td>\n",
              "      <td>0.482110</td>\n",
              "      <td>1.000000</td>\n",
              "      <td>0.000000</td>\n",
              "      <td>0.000000</td>\n",
              "      <td>0.338415</td>\n",
              "      <td>0.574695</td>\n",
              "      <td>1.000000</td>\n",
              "    </tr>\n",
              "    <tr>\n",
              "      <th>...</th>\n",
              "      <td>...</td>\n",
              "      <td>...</td>\n",
              "      <td>...</td>\n",
              "      <td>...</td>\n",
              "      <td>...</td>\n",
              "      <td>...</td>\n",
              "      <td>...</td>\n",
              "      <td>...</td>\n",
              "      <td>...</td>\n",
              "      <td>...</td>\n",
              "      <td>...</td>\n",
              "      <td>...</td>\n",
              "      <td>...</td>\n",
              "      <td>...</td>\n",
              "      <td>...</td>\n",
              "      <td>...</td>\n",
              "      <td>...</td>\n",
              "      <td>...</td>\n",
              "      <td>...</td>\n",
              "      <td>...</td>\n",
              "      <td>...</td>\n",
              "    </tr>\n",
              "    <tr>\n",
              "      <th>289</th>\n",
              "      <td>1.0</td>\n",
              "      <td>0.0</td>\n",
              "      <td>0.874580</td>\n",
              "      <td>0.512745</td>\n",
              "      <td>0.994970</td>\n",
              "      <td>0.548960</td>\n",
              "      <td>0.879275</td>\n",
              "      <td>0.564385</td>\n",
              "      <td>0.871565</td>\n",
              "      <td>0.454060</td>\n",
              "      <td>...</td>\n",
              "      <td>0.858820</td>\n",
              "      <td>0.493965</td>\n",
              "      <td>0.911355</td>\n",
              "      <td>0.512760</td>\n",
              "      <td>0.862175</td>\n",
              "      <td>0.494635</td>\n",
              "      <td>0.952045</td>\n",
              "      <td>0.555330</td>\n",
              "      <td>0.864185</td>\n",
              "      <td>0.513750</td>\n",
              "    </tr>\n",
              "    <tr>\n",
              "      <th>221</th>\n",
              "      <td>1.0</td>\n",
              "      <td>0.0</td>\n",
              "      <td>0.903135</td>\n",
              "      <td>0.565345</td>\n",
              "      <td>0.865305</td>\n",
              "      <td>0.621615</td>\n",
              "      <td>0.823075</td>\n",
              "      <td>0.595190</td>\n",
              "      <td>0.684615</td>\n",
              "      <td>0.727885</td>\n",
              "      <td>...</td>\n",
              "      <td>0.425285</td>\n",
              "      <td>0.700030</td>\n",
              "      <td>0.400300</td>\n",
              "      <td>0.674880</td>\n",
              "      <td>0.380840</td>\n",
              "      <td>0.647705</td>\n",
              "      <td>0.366830</td>\n",
              "      <td>0.619480</td>\n",
              "      <td>0.380770</td>\n",
              "      <td>0.655770</td>\n",
              "    </tr>\n",
              "    <tr>\n",
              "      <th>203</th>\n",
              "      <td>1.0</td>\n",
              "      <td>0.0</td>\n",
              "      <td>1.000000</td>\n",
              "      <td>0.545455</td>\n",
              "      <td>0.977275</td>\n",
              "      <td>0.454545</td>\n",
              "      <td>0.886365</td>\n",
              "      <td>0.500000</td>\n",
              "      <td>1.000000</td>\n",
              "      <td>0.500000</td>\n",
              "      <td>...</td>\n",
              "      <td>0.954545</td>\n",
              "      <td>0.522725</td>\n",
              "      <td>0.957705</td>\n",
              "      <td>0.514485</td>\n",
              "      <td>0.977275</td>\n",
              "      <td>0.545455</td>\n",
              "      <td>0.931820</td>\n",
              "      <td>0.454545</td>\n",
              "      <td>0.931820</td>\n",
              "      <td>0.522725</td>\n",
              "    </tr>\n",
              "    <tr>\n",
              "      <th>23</th>\n",
              "      <td>0.0</td>\n",
              "      <td>0.0</td>\n",
              "      <td>0.000000</td>\n",
              "      <td>1.000000</td>\n",
              "      <td>0.500000</td>\n",
              "      <td>0.500000</td>\n",
              "      <td>0.500000</td>\n",
              "      <td>0.500000</td>\n",
              "      <td>0.000000</td>\n",
              "      <td>1.000000</td>\n",
              "      <td>...</td>\n",
              "      <td>0.000000</td>\n",
              "      <td>0.000000</td>\n",
              "      <td>1.000000</td>\n",
              "      <td>0.000000</td>\n",
              "      <td>1.000000</td>\n",
              "      <td>1.000000</td>\n",
              "      <td>0.000000</td>\n",
              "      <td>1.000000</td>\n",
              "      <td>0.500000</td>\n",
              "      <td>0.500000</td>\n",
              "    </tr>\n",
              "    <tr>\n",
              "      <th>322</th>\n",
              "      <td>1.0</td>\n",
              "      <td>0.0</td>\n",
              "      <td>0.950355</td>\n",
              "      <td>0.508865</td>\n",
              "      <td>1.000000</td>\n",
              "      <td>0.491135</td>\n",
              "      <td>0.950355</td>\n",
              "      <td>0.503545</td>\n",
              "      <td>0.923760</td>\n",
              "      <td>0.528370</td>\n",
              "      <td>...</td>\n",
              "      <td>0.950355</td>\n",
              "      <td>0.523050</td>\n",
              "      <td>0.971525</td>\n",
              "      <td>0.516235</td>\n",
              "      <td>0.973405</td>\n",
              "      <td>0.512410</td>\n",
              "      <td>1.000000</td>\n",
              "      <td>0.505320</td>\n",
              "      <td>0.968085</td>\n",
              "      <td>0.510640</td>\n",
              "    </tr>\n",
              "  </tbody>\n",
              "</table>\n",
              "<p>315 rows × 34 columns</p>\n",
              "</div>\n",
              "      <button class=\"colab-df-convert\" onclick=\"convertToInteractive('df-83d53d25-7b6c-4459-86f9-60551167b3fb')\"\n",
              "              title=\"Convert this dataframe to an interactive table.\"\n",
              "              style=\"display:none;\">\n",
              "        \n",
              "  <svg xmlns=\"http://www.w3.org/2000/svg\" height=\"24px\"viewBox=\"0 0 24 24\"\n",
              "       width=\"24px\">\n",
              "    <path d=\"M0 0h24v24H0V0z\" fill=\"none\"/>\n",
              "    <path d=\"M18.56 5.44l.94 2.06.94-2.06 2.06-.94-2.06-.94-.94-2.06-.94 2.06-2.06.94zm-11 1L8.5 8.5l.94-2.06 2.06-.94-2.06-.94L8.5 2.5l-.94 2.06-2.06.94zm10 10l.94 2.06.94-2.06 2.06-.94-2.06-.94-.94-2.06-.94 2.06-2.06.94z\"/><path d=\"M17.41 7.96l-1.37-1.37c-.4-.4-.92-.59-1.43-.59-.52 0-1.04.2-1.43.59L10.3 9.45l-7.72 7.72c-.78.78-.78 2.05 0 2.83L4 21.41c.39.39.9.59 1.41.59.51 0 1.02-.2 1.41-.59l7.78-7.78 2.81-2.81c.8-.78.8-2.07 0-2.86zM5.41 20L4 18.59l7.72-7.72 1.47 1.35L5.41 20z\"/>\n",
              "  </svg>\n",
              "      </button>\n",
              "      \n",
              "  <style>\n",
              "    .colab-df-container {\n",
              "      display:flex;\n",
              "      flex-wrap:wrap;\n",
              "      gap: 12px;\n",
              "    }\n",
              "\n",
              "    .colab-df-convert {\n",
              "      background-color: #E8F0FE;\n",
              "      border: none;\n",
              "      border-radius: 50%;\n",
              "      cursor: pointer;\n",
              "      display: none;\n",
              "      fill: #1967D2;\n",
              "      height: 32px;\n",
              "      padding: 0 0 0 0;\n",
              "      width: 32px;\n",
              "    }\n",
              "\n",
              "    .colab-df-convert:hover {\n",
              "      background-color: #E2EBFA;\n",
              "      box-shadow: 0px 1px 2px rgba(60, 64, 67, 0.3), 0px 1px 3px 1px rgba(60, 64, 67, 0.15);\n",
              "      fill: #174EA6;\n",
              "    }\n",
              "\n",
              "    [theme=dark] .colab-df-convert {\n",
              "      background-color: #3B4455;\n",
              "      fill: #D2E3FC;\n",
              "    }\n",
              "\n",
              "    [theme=dark] .colab-df-convert:hover {\n",
              "      background-color: #434B5C;\n",
              "      box-shadow: 0px 1px 3px 1px rgba(0, 0, 0, 0.15);\n",
              "      filter: drop-shadow(0px 1px 2px rgba(0, 0, 0, 0.3));\n",
              "      fill: #FFFFFF;\n",
              "    }\n",
              "  </style>\n",
              "\n",
              "      <script>\n",
              "        const buttonEl =\n",
              "          document.querySelector('#df-83d53d25-7b6c-4459-86f9-60551167b3fb button.colab-df-convert');\n",
              "        buttonEl.style.display =\n",
              "          google.colab.kernel.accessAllowed ? 'block' : 'none';\n",
              "\n",
              "        async function convertToInteractive(key) {\n",
              "          const element = document.querySelector('#df-83d53d25-7b6c-4459-86f9-60551167b3fb');\n",
              "          const dataTable =\n",
              "            await google.colab.kernel.invokeFunction('convertToInteractive',\n",
              "                                                     [key], {});\n",
              "          if (!dataTable) return;\n",
              "\n",
              "          const docLinkHtml = 'Like what you see? Visit the ' +\n",
              "            '<a target=\"_blank\" href=https://colab.research.google.com/notebooks/data_table.ipynb>data table notebook</a>'\n",
              "            + ' to learn more about interactive tables.';\n",
              "          element.innerHTML = '';\n",
              "          dataTable['output_type'] = 'display_data';\n",
              "          await google.colab.output.renderOutput(dataTable, element);\n",
              "          const docLink = document.createElement('div');\n",
              "          docLink.innerHTML = docLinkHtml;\n",
              "          element.appendChild(docLink);\n",
              "        }\n",
              "      </script>\n",
              "    </div>\n",
              "  </div>\n",
              "  "
            ]
          },
          "metadata": {},
          "execution_count": 87
        }
      ]
    },
    {
      "cell_type": "markdown",
      "source": [
        "Dividing the training data into 5 folds using KFold from the sklearn library and evaluating the performance of the 5 models on the validation set using metrices like pricision, recall, f1-score."
      ],
      "metadata": {
        "id": "ZK7AAEUiQCOR"
      }
    },
    {
      "cell_type": "code",
      "source": [
        "from sklearn.model_selection import KFold\n",
        "from sklearn.linear_model import LogisticRegression\n",
        "from sklearn.metrics import accuracy_score\n",
        "from sklearn.metrics import confusion_matrix\n",
        "from sklearn.metrics import classification_report\n",
        "\n",
        "x_train_numpy = np.array(X_train)\n",
        "y_train_numpy = np.array(Y_train)\n",
        "\n",
        "kf = KFold(n_splits = 5)\n",
        "\n",
        "model = 1\n",
        "for train_index, val_index in kf.split(x_train_numpy):\n",
        "  X_KFold_train, X_KFold_val = x_train_numpy[train_index], x_train_numpy[val_index]\n",
        "  Y_KFold_train, Y_KFold_val = y_train_numpy[train_index], y_train_numpy[val_index]\n",
        "  logreg = LogisticRegression()\n",
        "  logreg.fit(X_KFold_train, Y_KFold_train)\n",
        "  Y_KFold_pred = logreg.predict(X_KFold_val)\n",
        "  print(\"Accuracy of logistic regression classifier on KFold model \"+str(model)+\" = \"+str(accuracy_score(Y_KFold_pred, Y_KFold_val)))\n",
        "  print(\"Classification report for this KFold model \"+str(model))\n",
        "  classification_report_model = classification_report(Y_KFold_pred, Y_KFold_val)\n",
        "  print(classification_report_model)\n",
        "  model += 1  "
      ],
      "metadata": {
        "colab": {
          "base_uri": "https://localhost:8080/"
        },
        "id": "3rF5a3n2qqyk",
        "outputId": "043652f7-1ed8-4fe4-9539-bf98160442fb"
      },
      "execution_count": 88,
      "outputs": [
        {
          "output_type": "stream",
          "name": "stdout",
          "text": [
            "Accuracy of logistic regression classifier on KFold model 1 = 0.9365079365079365\n",
            "Classification report for this KFold model 1\n",
            "              precision    recall  f1-score   support\n",
            "\n",
            "           0       0.84      0.94      0.89        17\n",
            "           1       0.98      0.93      0.96        46\n",
            "\n",
            "    accuracy                           0.94        63\n",
            "   macro avg       0.91      0.94      0.92        63\n",
            "weighted avg       0.94      0.94      0.94        63\n",
            "\n",
            "Accuracy of logistic regression classifier on KFold model 2 = 0.873015873015873\n",
            "Classification report for this KFold model 2\n",
            "              precision    recall  f1-score   support\n",
            "\n",
            "           0       0.67      0.93      0.78        15\n",
            "           1       0.98      0.85      0.91        48\n",
            "\n",
            "    accuracy                           0.87        63\n",
            "   macro avg       0.82      0.89      0.84        63\n",
            "weighted avg       0.90      0.87      0.88        63\n",
            "\n",
            "Accuracy of logistic regression classifier on KFold model 3 = 0.8095238095238095\n",
            "Classification report for this KFold model 3\n",
            "              precision    recall  f1-score   support\n",
            "\n",
            "           0       0.64      0.90      0.75        20\n",
            "           1       0.94      0.77      0.85        43\n",
            "\n",
            "    accuracy                           0.81        63\n",
            "   macro avg       0.79      0.83      0.80        63\n",
            "weighted avg       0.85      0.81      0.82        63\n",
            "\n",
            "Accuracy of logistic regression classifier on KFold model 4 = 0.9047619047619048\n",
            "Classification report for this KFold model 4\n",
            "              precision    recall  f1-score   support\n",
            "\n",
            "           0       0.75      1.00      0.86        18\n",
            "           1       1.00      0.87      0.93        45\n",
            "\n",
            "    accuracy                           0.90        63\n",
            "   macro avg       0.88      0.93      0.89        63\n",
            "weighted avg       0.93      0.90      0.91        63\n",
            "\n",
            "Accuracy of logistic regression classifier on KFold model 5 = 0.873015873015873\n",
            "Classification report for this KFold model 5\n",
            "              precision    recall  f1-score   support\n",
            "\n",
            "           0       0.68      0.94      0.79        16\n",
            "           1       0.98      0.85      0.91        47\n",
            "\n",
            "    accuracy                           0.87        63\n",
            "   macro avg       0.83      0.89      0.85        63\n",
            "weighted avg       0.90      0.87      0.88        63\n",
            "\n"
          ]
        }
      ]
    },
    {
      "cell_type": "markdown",
      "source": [
        "Now, evaluating the performance of the 5 models obtained from KFold on the test set."
      ],
      "metadata": {
        "id": "iVHUoDKSQ4E-"
      }
    },
    {
      "cell_type": "code",
      "source": [
        "x_test_numpy = np.array(X_test)\n",
        "y_test_numpy = np.array(Y_test)\n",
        "\n",
        "kf = KFold(n_splits = 5)\n",
        "\n",
        "model = 1\n",
        "for train_index, val_index in kf.split(x_train_numpy):\n",
        "  X_KFold_train, X_KFold_val = x_train_numpy[train_index], x_train_numpy[val_index]\n",
        "  Y_KFold_train, Y_KFold_val = y_train_numpy[train_index], y_train_numpy[val_index]\n",
        "  logreg = LogisticRegression()\n",
        "  logreg.fit(X_KFold_train, Y_KFold_train)\n",
        "  Y_KFold_pred = logreg.predict(x_test_numpy)  # Using test set for predicting the labels\n",
        "  print(\"Accuracy of logistic regression classifier on KFold model \"+str(model)+\" = \"+str(accuracy_score(Y_KFold_pred, y_test_numpy)))\n",
        "  print(\"Classification report for this KFold model \"+str(model))\n",
        "  classification_report_model = classification_report(Y_KFold_pred, y_test_numpy)\n",
        "  print(classification_report_model)\n",
        "  model += 1  "
      ],
      "metadata": {
        "colab": {
          "base_uri": "https://localhost:8080/"
        },
        "id": "TBIPexvV4nmA",
        "outputId": "eee88ed2-2769-4f4d-a72c-f439581045ed"
      },
      "execution_count": 89,
      "outputs": [
        {
          "output_type": "stream",
          "name": "stdout",
          "text": [
            "Accuracy of logistic regression classifier on KFold model 1 = 0.9166666666666666\n",
            "Classification report for this KFold model 1\n",
            "              precision    recall  f1-score   support\n",
            "\n",
            "           0       0.75      1.00      0.86         9\n",
            "           1       1.00      0.89      0.94        27\n",
            "\n",
            "    accuracy                           0.92        36\n",
            "   macro avg       0.88      0.94      0.90        36\n",
            "weighted avg       0.94      0.92      0.92        36\n",
            "\n",
            "Accuracy of logistic regression classifier on KFold model 2 = 0.9166666666666666\n",
            "Classification report for this KFold model 2\n",
            "              precision    recall  f1-score   support\n",
            "\n",
            "           0       0.75      1.00      0.86         9\n",
            "           1       1.00      0.89      0.94        27\n",
            "\n",
            "    accuracy                           0.92        36\n",
            "   macro avg       0.88      0.94      0.90        36\n",
            "weighted avg       0.94      0.92      0.92        36\n",
            "\n",
            "Accuracy of logistic regression classifier on KFold model 3 = 0.9166666666666666\n",
            "Classification report for this KFold model 3\n",
            "              precision    recall  f1-score   support\n",
            "\n",
            "           0       0.75      1.00      0.86         9\n",
            "           1       1.00      0.89      0.94        27\n",
            "\n",
            "    accuracy                           0.92        36\n",
            "   macro avg       0.88      0.94      0.90        36\n",
            "weighted avg       0.94      0.92      0.92        36\n",
            "\n",
            "Accuracy of logistic regression classifier on KFold model 4 = 0.9166666666666666\n",
            "Classification report for this KFold model 4\n",
            "              precision    recall  f1-score   support\n",
            "\n",
            "           0       0.75      1.00      0.86         9\n",
            "           1       1.00      0.89      0.94        27\n",
            "\n",
            "    accuracy                           0.92        36\n",
            "   macro avg       0.88      0.94      0.90        36\n",
            "weighted avg       0.94      0.92      0.92        36\n",
            "\n",
            "Accuracy of logistic regression classifier on KFold model 5 = 0.9166666666666666\n",
            "Classification report for this KFold model 5\n",
            "              precision    recall  f1-score   support\n",
            "\n",
            "           0       0.75      1.00      0.86         9\n",
            "           1       1.00      0.89      0.94        27\n",
            "\n",
            "    accuracy                           0.92        36\n",
            "   macro avg       0.88      0.94      0.90        36\n",
            "weighted avg       0.94      0.92      0.92        36\n",
            "\n"
          ]
        }
      ]
    },
    {
      "cell_type": "markdown",
      "source": [
        "Now using PCA (Principal Component Analysis) to reduce the data to 2-dimensions."
      ],
      "metadata": {
        "id": "8QLNHkvjRM6o"
      }
    },
    {
      "cell_type": "code",
      "source": [
        "from sklearn.decomposition import PCA\n",
        "pca = PCA(n_components=2)\n",
        "principalComponents = pca.fit_transform(x_train_numpy)\n",
        "principalDf = pd.DataFrame(data = principalComponents, columns = ['principal_component_1', 'principal_component_2'])\n",
        "principalDf"
      ],
      "metadata": {
        "colab": {
          "base_uri": "https://localhost:8080/",
          "height": 423
        },
        "id": "RFwiXlCHzAg8",
        "outputId": "881baf92-329a-4d89-e055-d028e031140e"
      },
      "execution_count": 90,
      "outputs": [
        {
          "output_type": "execute_result",
          "data": {
            "text/plain": [
              "     principal_component_1  principal_component_2\n",
              "0                -0.439850               0.036789\n",
              "1                -0.770268               0.057794\n",
              "2                 0.994540               0.754916\n",
              "3                -1.097058              -0.170687\n",
              "4                 1.239288              -0.567472\n",
              "..                     ...                    ...\n",
              "310              -0.843327               0.023587\n",
              "311               0.606226               0.864648\n",
              "312              -0.988360               0.036782\n",
              "313               0.830535               0.255578\n",
              "314              -1.027100               0.010211\n",
              "\n",
              "[315 rows x 2 columns]"
            ],
            "text/html": [
              "\n",
              "  <div id=\"df-3b33debb-f5aa-4e79-9bb9-0171d09f249b\">\n",
              "    <div class=\"colab-df-container\">\n",
              "      <div>\n",
              "<style scoped>\n",
              "    .dataframe tbody tr th:only-of-type {\n",
              "        vertical-align: middle;\n",
              "    }\n",
              "\n",
              "    .dataframe tbody tr th {\n",
              "        vertical-align: top;\n",
              "    }\n",
              "\n",
              "    .dataframe thead th {\n",
              "        text-align: right;\n",
              "    }\n",
              "</style>\n",
              "<table border=\"1\" class=\"dataframe\">\n",
              "  <thead>\n",
              "    <tr style=\"text-align: right;\">\n",
              "      <th></th>\n",
              "      <th>principal_component_1</th>\n",
              "      <th>principal_component_2</th>\n",
              "    </tr>\n",
              "  </thead>\n",
              "  <tbody>\n",
              "    <tr>\n",
              "      <th>0</th>\n",
              "      <td>-0.439850</td>\n",
              "      <td>0.036789</td>\n",
              "    </tr>\n",
              "    <tr>\n",
              "      <th>1</th>\n",
              "      <td>-0.770268</td>\n",
              "      <td>0.057794</td>\n",
              "    </tr>\n",
              "    <tr>\n",
              "      <th>2</th>\n",
              "      <td>0.994540</td>\n",
              "      <td>0.754916</td>\n",
              "    </tr>\n",
              "    <tr>\n",
              "      <th>3</th>\n",
              "      <td>-1.097058</td>\n",
              "      <td>-0.170687</td>\n",
              "    </tr>\n",
              "    <tr>\n",
              "      <th>4</th>\n",
              "      <td>1.239288</td>\n",
              "      <td>-0.567472</td>\n",
              "    </tr>\n",
              "    <tr>\n",
              "      <th>...</th>\n",
              "      <td>...</td>\n",
              "      <td>...</td>\n",
              "    </tr>\n",
              "    <tr>\n",
              "      <th>310</th>\n",
              "      <td>-0.843327</td>\n",
              "      <td>0.023587</td>\n",
              "    </tr>\n",
              "    <tr>\n",
              "      <th>311</th>\n",
              "      <td>0.606226</td>\n",
              "      <td>0.864648</td>\n",
              "    </tr>\n",
              "    <tr>\n",
              "      <th>312</th>\n",
              "      <td>-0.988360</td>\n",
              "      <td>0.036782</td>\n",
              "    </tr>\n",
              "    <tr>\n",
              "      <th>313</th>\n",
              "      <td>0.830535</td>\n",
              "      <td>0.255578</td>\n",
              "    </tr>\n",
              "    <tr>\n",
              "      <th>314</th>\n",
              "      <td>-1.027100</td>\n",
              "      <td>0.010211</td>\n",
              "    </tr>\n",
              "  </tbody>\n",
              "</table>\n",
              "<p>315 rows × 2 columns</p>\n",
              "</div>\n",
              "      <button class=\"colab-df-convert\" onclick=\"convertToInteractive('df-3b33debb-f5aa-4e79-9bb9-0171d09f249b')\"\n",
              "              title=\"Convert this dataframe to an interactive table.\"\n",
              "              style=\"display:none;\">\n",
              "        \n",
              "  <svg xmlns=\"http://www.w3.org/2000/svg\" height=\"24px\"viewBox=\"0 0 24 24\"\n",
              "       width=\"24px\">\n",
              "    <path d=\"M0 0h24v24H0V0z\" fill=\"none\"/>\n",
              "    <path d=\"M18.56 5.44l.94 2.06.94-2.06 2.06-.94-2.06-.94-.94-2.06-.94 2.06-2.06.94zm-11 1L8.5 8.5l.94-2.06 2.06-.94-2.06-.94L8.5 2.5l-.94 2.06-2.06.94zm10 10l.94 2.06.94-2.06 2.06-.94-2.06-.94-.94-2.06-.94 2.06-2.06.94z\"/><path d=\"M17.41 7.96l-1.37-1.37c-.4-.4-.92-.59-1.43-.59-.52 0-1.04.2-1.43.59L10.3 9.45l-7.72 7.72c-.78.78-.78 2.05 0 2.83L4 21.41c.39.39.9.59 1.41.59.51 0 1.02-.2 1.41-.59l7.78-7.78 2.81-2.81c.8-.78.8-2.07 0-2.86zM5.41 20L4 18.59l7.72-7.72 1.47 1.35L5.41 20z\"/>\n",
              "  </svg>\n",
              "      </button>\n",
              "      \n",
              "  <style>\n",
              "    .colab-df-container {\n",
              "      display:flex;\n",
              "      flex-wrap:wrap;\n",
              "      gap: 12px;\n",
              "    }\n",
              "\n",
              "    .colab-df-convert {\n",
              "      background-color: #E8F0FE;\n",
              "      border: none;\n",
              "      border-radius: 50%;\n",
              "      cursor: pointer;\n",
              "      display: none;\n",
              "      fill: #1967D2;\n",
              "      height: 32px;\n",
              "      padding: 0 0 0 0;\n",
              "      width: 32px;\n",
              "    }\n",
              "\n",
              "    .colab-df-convert:hover {\n",
              "      background-color: #E2EBFA;\n",
              "      box-shadow: 0px 1px 2px rgba(60, 64, 67, 0.3), 0px 1px 3px 1px rgba(60, 64, 67, 0.15);\n",
              "      fill: #174EA6;\n",
              "    }\n",
              "\n",
              "    [theme=dark] .colab-df-convert {\n",
              "      background-color: #3B4455;\n",
              "      fill: #D2E3FC;\n",
              "    }\n",
              "\n",
              "    [theme=dark] .colab-df-convert:hover {\n",
              "      background-color: #434B5C;\n",
              "      box-shadow: 0px 1px 3px 1px rgba(0, 0, 0, 0.15);\n",
              "      filter: drop-shadow(0px 1px 2px rgba(0, 0, 0, 0.3));\n",
              "      fill: #FFFFFF;\n",
              "    }\n",
              "  </style>\n",
              "\n",
              "      <script>\n",
              "        const buttonEl =\n",
              "          document.querySelector('#df-3b33debb-f5aa-4e79-9bb9-0171d09f249b button.colab-df-convert');\n",
              "        buttonEl.style.display =\n",
              "          google.colab.kernel.accessAllowed ? 'block' : 'none';\n",
              "\n",
              "        async function convertToInteractive(key) {\n",
              "          const element = document.querySelector('#df-3b33debb-f5aa-4e79-9bb9-0171d09f249b');\n",
              "          const dataTable =\n",
              "            await google.colab.kernel.invokeFunction('convertToInteractive',\n",
              "                                                     [key], {});\n",
              "          if (!dataTable) return;\n",
              "\n",
              "          const docLinkHtml = 'Like what you see? Visit the ' +\n",
              "            '<a target=\"_blank\" href=https://colab.research.google.com/notebooks/data_table.ipynb>data table notebook</a>'\n",
              "            + ' to learn more about interactive tables.';\n",
              "          element.innerHTML = '';\n",
              "          dataTable['output_type'] = 'display_data';\n",
              "          await google.colab.output.renderOutput(dataTable, element);\n",
              "          const docLink = document.createElement('div');\n",
              "          docLink.innerHTML = docLinkHtml;\n",
              "          element.appendChild(docLink);\n",
              "        }\n",
              "      </script>\n",
              "    </div>\n",
              "  </div>\n",
              "  "
            ]
          },
          "metadata": {},
          "execution_count": 90
        }
      ]
    },
    {
      "cell_type": "markdown",
      "source": [
        "Now, dividing the 2D training data into 5 folds using KFold and evaluating the 5 models on the respective validation sets."
      ],
      "metadata": {
        "id": "0Npi_JThRfZL"
      }
    },
    {
      "cell_type": "code",
      "source": [
        "x_train_numpy_pca = np.array(principalDf)\n",
        "\n",
        "kf = KFold(n_splits = 5)\n",
        "\n",
        "model = 1\n",
        "for train_index, val_index in kf.split(x_train_numpy_pca):\n",
        "  X_KFold_train, X_KFold_val = x_train_numpy_pca[train_index], x_train_numpy_pca[val_index]\n",
        "  Y_KFold_train, Y_KFold_val = y_train_numpy[train_index], y_train_numpy[val_index]\n",
        "  logreg = LogisticRegression()\n",
        "  logreg.fit(X_KFold_train, Y_KFold_train)\n",
        "  Y_KFold_pred = logreg.predict(X_KFold_val)\n",
        "  print(\"Accuracy of logistic regression classifier on KFold model \"+str(model)+\" = \"+str(accuracy_score(Y_KFold_pred, Y_KFold_val)))\n",
        "  print(\"Classification report for this KFold model \"+str(model))\n",
        "  classification_report_model = classification_report(Y_KFold_pred, Y_KFold_val)\n",
        "  print(classification_report_model)\n",
        "  model += 1 "
      ],
      "metadata": {
        "colab": {
          "base_uri": "https://localhost:8080/"
        },
        "id": "SSoi7VVu7kOS",
        "outputId": "ee475a5b-a0ad-4cd2-fc52-eb72149f4629"
      },
      "execution_count": 91,
      "outputs": [
        {
          "output_type": "stream",
          "name": "stdout",
          "text": [
            "Accuracy of logistic regression classifier on KFold model 1 = 0.6031746031746031\n",
            "Classification report for this KFold model 1\n",
            "              precision    recall  f1-score   support\n",
            "\n",
            "           0       0.16      0.25      0.19        12\n",
            "           1       0.80      0.69      0.74        51\n",
            "\n",
            "    accuracy                           0.60        63\n",
            "   macro avg       0.48      0.47      0.47        63\n",
            "weighted avg       0.67      0.60      0.63        63\n",
            "\n",
            "Accuracy of logistic regression classifier on KFold model 2 = 0.6031746031746031\n",
            "Classification report for this KFold model 2\n",
            "              precision    recall  f1-score   support\n",
            "\n",
            "           0       0.14      0.30      0.19        10\n",
            "           1       0.83      0.66      0.74        53\n",
            "\n",
            "    accuracy                           0.60        63\n",
            "   macro avg       0.49      0.48      0.47        63\n",
            "weighted avg       0.72      0.60      0.65        63\n",
            "\n",
            "Accuracy of logistic regression classifier on KFold model 3 = 0.5079365079365079\n",
            "Classification report for this KFold model 3\n",
            "              precision    recall  f1-score   support\n",
            "\n",
            "           0       0.07      0.29      0.11         7\n",
            "           1       0.86      0.54      0.66        56\n",
            "\n",
            "    accuracy                           0.51        63\n",
            "   macro avg       0.46      0.41      0.39        63\n",
            "weighted avg       0.77      0.51      0.60        63\n",
            "\n",
            "Accuracy of logistic regression classifier on KFold model 4 = 0.5555555555555556\n",
            "Classification report for this KFold model 4\n",
            "              precision    recall  f1-score   support\n",
            "\n",
            "           0       0.08      0.25      0.12         8\n",
            "           1       0.85      0.60      0.70        55\n",
            "\n",
            "    accuracy                           0.56        63\n",
            "   macro avg       0.46      0.42      0.41        63\n",
            "weighted avg       0.75      0.56      0.63        63\n",
            "\n",
            "Accuracy of logistic regression classifier on KFold model 5 = 0.5714285714285714\n",
            "Classification report for this KFold model 5\n",
            "              precision    recall  f1-score   support\n",
            "\n",
            "           0       0.05      0.14      0.07         7\n",
            "           1       0.85      0.62      0.72        56\n",
            "\n",
            "    accuracy                           0.57        63\n",
            "   macro avg       0.45      0.38      0.40        63\n",
            "weighted avg       0.76      0.57      0.65        63\n",
            "\n"
          ]
        }
      ]
    },
    {
      "cell_type": "markdown",
      "source": [
        "Now evaluating the 5 models obtained from KFold on the test data. Dimensions of the test data is reduced to 2D using PCA."
      ],
      "metadata": {
        "id": "2YO8g5bSSHD1"
      }
    },
    {
      "cell_type": "code",
      "source": [
        "principalComponents_test = pca.fit_transform(x_test_numpy)\n",
        "principalDf_test = pd.DataFrame(data = principalComponents_test, columns = ['principal_component_1', 'principal_component_2'])\n",
        "x_test_numpy_pca = np.array(principalDf_test)\n",
        "\n",
        "kf = KFold(n_splits = 5)\n",
        "\n",
        "model = 1\n",
        "for train_index, val_index in kf.split(x_train_numpy_pca):\n",
        "  X_KFold_train, X_KFold_val = x_train_numpy_pca[train_index], x_train_numpy_pca[val_index]\n",
        "  Y_KFold_train, Y_KFold_val = y_train_numpy[train_index], y_train_numpy[val_index]\n",
        "  logreg = LogisticRegression()\n",
        "  logreg.fit(X_KFold_train, Y_KFold_train)\n",
        "  Y_KFold_pred = logreg.predict(x_test_numpy_pca)\n",
        "  print(\"Accuracy of logistic regression classifier on KFold model \"+str(model)+\" = \"+str(accuracy_score(Y_KFold_pred, y_test_numpy)))\n",
        "  print(\"Classification report for this KFold model \"+str(model))\n",
        "  classification_report_model = classification_report(Y_KFold_pred, y_test_numpy)\n",
        "  print(classification_report_model)\n",
        "  model += 1 "
      ],
      "metadata": {
        "colab": {
          "base_uri": "https://localhost:8080/"
        },
        "id": "e1ESjuuy9hiS",
        "outputId": "a5e10588-4252-4bab-a84c-1f7d1df31c82"
      },
      "execution_count": 92,
      "outputs": [
        {
          "output_type": "stream",
          "name": "stdout",
          "text": [
            "Accuracy of logistic regression classifier on KFold model 1 = 0.6388888888888888\n",
            "Classification report for this KFold model 1\n",
            "              precision    recall  f1-score   support\n",
            "\n",
            "           0       0.25      0.43      0.32         7\n",
            "           1       0.83      0.69      0.75        29\n",
            "\n",
            "    accuracy                           0.64        36\n",
            "   macro avg       0.54      0.56      0.54        36\n",
            "weighted avg       0.72      0.64      0.67        36\n",
            "\n",
            "Accuracy of logistic regression classifier on KFold model 2 = 0.6388888888888888\n",
            "Classification report for this KFold model 2\n",
            "              precision    recall  f1-score   support\n",
            "\n",
            "           0       0.25      0.43      0.32         7\n",
            "           1       0.83      0.69      0.75        29\n",
            "\n",
            "    accuracy                           0.64        36\n",
            "   macro avg       0.54      0.56      0.54        36\n",
            "weighted avg       0.72      0.64      0.67        36\n",
            "\n",
            "Accuracy of logistic regression classifier on KFold model 3 = 0.6388888888888888\n",
            "Classification report for this KFold model 3\n",
            "              precision    recall  f1-score   support\n",
            "\n",
            "           0       0.17      0.40      0.24         5\n",
            "           1       0.88      0.68      0.76        31\n",
            "\n",
            "    accuracy                           0.64        36\n",
            "   macro avg       0.52      0.54      0.50        36\n",
            "weighted avg       0.78      0.64      0.69        36\n",
            "\n",
            "Accuracy of logistic regression classifier on KFold model 4 = 0.6111111111111112\n",
            "Classification report for this KFold model 4\n",
            "              precision    recall  f1-score   support\n",
            "\n",
            "           0       0.17      0.33      0.22         6\n",
            "           1       0.83      0.67      0.74        30\n",
            "\n",
            "    accuracy                           0.61        36\n",
            "   macro avg       0.50      0.50      0.48        36\n",
            "weighted avg       0.72      0.61      0.65        36\n",
            "\n",
            "Accuracy of logistic regression classifier on KFold model 5 = 0.6388888888888888\n",
            "Classification report for this KFold model 5\n",
            "              precision    recall  f1-score   support\n",
            "\n",
            "           0       0.25      0.43      0.32         7\n",
            "           1       0.83      0.69      0.75        29\n",
            "\n",
            "    accuracy                           0.64        36\n",
            "   macro avg       0.54      0.56      0.54        36\n",
            "weighted avg       0.72      0.64      0.67        36\n",
            "\n"
          ]
        }
      ]
    },
    {
      "cell_type": "markdown",
      "source": [
        "Using Logistic Regression with L1 regularization to train the model. KFold is used and the 5 models are evaluated on the test set."
      ],
      "metadata": {
        "id": "Hx60efNhSrIK"
      }
    },
    {
      "cell_type": "code",
      "source": [
        "kf = KFold(n_splits = 5)\n",
        "\n",
        "model = 1\n",
        "for train_index, val_index in kf.split(x_train_numpy):\n",
        "  X_KFold_train, X_KFold_val = x_train_numpy[train_index], x_train_numpy[val_index]\n",
        "  Y_KFold_train, Y_KFold_val = y_train_numpy[train_index], y_train_numpy[val_index]\n",
        "  logreg = LogisticRegression(penalty = 'l1', solver='liblinear')  # Using Logistic Regression with L1 regularization \n",
        "  logreg.fit(X_KFold_train, Y_KFold_train)\n",
        "  Y_KFold_pred = logreg.predict(x_test_numpy)\n",
        "  print(\"Accuracy of logistic regression classifier with L1 regularization on KFold model \"+str(model)+\" = \"+str(accuracy_score(Y_KFold_pred, y_test_numpy)))\n",
        "  print(\"Classification report for this KFold model \"+str(model))\n",
        "  classification_report_model = classification_report(Y_KFold_pred, y_test_numpy)\n",
        "  print(classification_report_model)\n",
        "  model += 1  "
      ],
      "metadata": {
        "colab": {
          "base_uri": "https://localhost:8080/"
        },
        "id": "W2nNweLhARWi",
        "outputId": "a6bdc7da-0190-4ac1-cc5b-686872bae07e"
      },
      "execution_count": 93,
      "outputs": [
        {
          "output_type": "stream",
          "name": "stdout",
          "text": [
            "Accuracy of logistic regression classifier with L1 regularization on KFold model 1 = 0.8888888888888888\n",
            "Classification report for this KFold model 1\n",
            "              precision    recall  f1-score   support\n",
            "\n",
            "           0       0.75      0.90      0.82        10\n",
            "           1       0.96      0.88      0.92        26\n",
            "\n",
            "    accuracy                           0.89        36\n",
            "   macro avg       0.85      0.89      0.87        36\n",
            "weighted avg       0.90      0.89      0.89        36\n",
            "\n",
            "Accuracy of logistic regression classifier with L1 regularization on KFold model 2 = 0.8888888888888888\n",
            "Classification report for this KFold model 2\n",
            "              precision    recall  f1-score   support\n",
            "\n",
            "           0       0.75      0.90      0.82        10\n",
            "           1       0.96      0.88      0.92        26\n",
            "\n",
            "    accuracy                           0.89        36\n",
            "   macro avg       0.85      0.89      0.87        36\n",
            "weighted avg       0.90      0.89      0.89        36\n",
            "\n",
            "Accuracy of logistic regression classifier with L1 regularization on KFold model 3 = 0.8888888888888888\n",
            "Classification report for this KFold model 3\n",
            "              precision    recall  f1-score   support\n",
            "\n",
            "           0       0.75      0.90      0.82        10\n",
            "           1       0.96      0.88      0.92        26\n",
            "\n",
            "    accuracy                           0.89        36\n",
            "   macro avg       0.85      0.89      0.87        36\n",
            "weighted avg       0.90      0.89      0.89        36\n",
            "\n",
            "Accuracy of logistic regression classifier with L1 regularization on KFold model 4 = 0.9166666666666666\n",
            "Classification report for this KFold model 4\n",
            "              precision    recall  f1-score   support\n",
            "\n",
            "           0       0.75      1.00      0.86         9\n",
            "           1       1.00      0.89      0.94        27\n",
            "\n",
            "    accuracy                           0.92        36\n",
            "   macro avg       0.88      0.94      0.90        36\n",
            "weighted avg       0.94      0.92      0.92        36\n",
            "\n",
            "Accuracy of logistic regression classifier with L1 regularization on KFold model 5 = 0.8611111111111112\n",
            "Classification report for this KFold model 5\n",
            "              precision    recall  f1-score   support\n",
            "\n",
            "           0       0.67      0.89      0.76         9\n",
            "           1       0.96      0.85      0.90        27\n",
            "\n",
            "    accuracy                           0.86        36\n",
            "   macro avg       0.81      0.87      0.83        36\n",
            "weighted avg       0.89      0.86      0.87        36\n",
            "\n"
          ]
        }
      ]
    },
    {
      "cell_type": "markdown",
      "source": [
        "Now using Logistic Regression with L2 regularization to train the model. KFold is used and 5 models are evaluated on the test set."
      ],
      "metadata": {
        "id": "qe3KidWCUQXd"
      }
    },
    {
      "cell_type": "code",
      "source": [
        "kf = KFold(n_splits = 5)\n",
        "\n",
        "model = 1\n",
        "for train_index, val_index in kf.split(x_train_numpy):\n",
        "  X_KFold_train, X_KFold_val = x_train_numpy[train_index], x_train_numpy[val_index]\n",
        "  Y_KFold_train, Y_KFold_val = y_train_numpy[train_index], y_train_numpy[val_index]\n",
        "  logreg = LogisticRegression(penalty = 'l2')  # Logistic Regression with L2 regularization\n",
        "  logreg.fit(X_KFold_train, Y_KFold_train)\n",
        "  Y_KFold_pred = logreg.predict(x_test_numpy)\n",
        "  print(\"Accuracy of logistic regression classifier with L2 regularization on KFold model \"+str(model)+\" = \"+str(accuracy_score(Y_KFold_pred, y_test_numpy)))\n",
        "  print(\"Classification report for this KFold model \"+str(model))\n",
        "  classification_report_model = classification_report(Y_KFold_pred, y_test_numpy)\n",
        "  print(classification_report_model)\n",
        "  model += 1  "
      ],
      "metadata": {
        "colab": {
          "base_uri": "https://localhost:8080/"
        },
        "id": "juJUq-gWIrq6",
        "outputId": "a0eab848-96c7-47ee-82bd-c9a74e9a98b4"
      },
      "execution_count": 94,
      "outputs": [
        {
          "output_type": "stream",
          "name": "stdout",
          "text": [
            "Accuracy of logistic regression classifier with L2 regularization on KFold model 1 = 0.9166666666666666\n",
            "Classification report for this KFold model 1\n",
            "              precision    recall  f1-score   support\n",
            "\n",
            "           0       0.75      1.00      0.86         9\n",
            "           1       1.00      0.89      0.94        27\n",
            "\n",
            "    accuracy                           0.92        36\n",
            "   macro avg       0.88      0.94      0.90        36\n",
            "weighted avg       0.94      0.92      0.92        36\n",
            "\n",
            "Accuracy of logistic regression classifier with L2 regularization on KFold model 2 = 0.9166666666666666\n",
            "Classification report for this KFold model 2\n",
            "              precision    recall  f1-score   support\n",
            "\n",
            "           0       0.75      1.00      0.86         9\n",
            "           1       1.00      0.89      0.94        27\n",
            "\n",
            "    accuracy                           0.92        36\n",
            "   macro avg       0.88      0.94      0.90        36\n",
            "weighted avg       0.94      0.92      0.92        36\n",
            "\n",
            "Accuracy of logistic regression classifier with L2 regularization on KFold model 3 = 0.9166666666666666\n",
            "Classification report for this KFold model 3\n",
            "              precision    recall  f1-score   support\n",
            "\n",
            "           0       0.75      1.00      0.86         9\n",
            "           1       1.00      0.89      0.94        27\n",
            "\n",
            "    accuracy                           0.92        36\n",
            "   macro avg       0.88      0.94      0.90        36\n",
            "weighted avg       0.94      0.92      0.92        36\n",
            "\n",
            "Accuracy of logistic regression classifier with L2 regularization on KFold model 4 = 0.9166666666666666\n",
            "Classification report for this KFold model 4\n",
            "              precision    recall  f1-score   support\n",
            "\n",
            "           0       0.75      1.00      0.86         9\n",
            "           1       1.00      0.89      0.94        27\n",
            "\n",
            "    accuracy                           0.92        36\n",
            "   macro avg       0.88      0.94      0.90        36\n",
            "weighted avg       0.94      0.92      0.92        36\n",
            "\n",
            "Accuracy of logistic regression classifier with L2 regularization on KFold model 5 = 0.9166666666666666\n",
            "Classification report for this KFold model 5\n",
            "              precision    recall  f1-score   support\n",
            "\n",
            "           0       0.75      1.00      0.86         9\n",
            "           1       1.00      0.89      0.94        27\n",
            "\n",
            "    accuracy                           0.92        36\n",
            "   macro avg       0.88      0.94      0.90        36\n",
            "weighted avg       0.94      0.92      0.92        36\n",
            "\n"
          ]
        }
      ]
    },
    {
      "cell_type": "markdown",
      "source": [
        "Now, defining a function for plotting AUC-ROC curve."
      ],
      "metadata": {
        "id": "nur094Bhc34T"
      }
    },
    {
      "cell_type": "code",
      "source": [
        "def get_tpr_fpr(target_values, predicted_probability, threshold):\n",
        "  TP = 0\n",
        "  TN = 0\n",
        "  FP = 0\n",
        "  FN = 0\n",
        "  for i in range(len(predicted_probability)):\n",
        "    if(predicted_probability[i] >= threshold):\n",
        "      if(target_values[i] == 1):\n",
        "        TP += 1\n",
        "      else:\n",
        "        FP += 1\n",
        "    else:\n",
        "      if(target_values[i] == 0):\n",
        "        TN += 1\n",
        "      else:\n",
        "        FN += 1\n",
        "  TPR = TP/(TP+FN)\n",
        "  FPR = FP/(FP+TN)\n",
        "  return TPR, FPR\n",
        "\n",
        "thresholds = []\n",
        "for i in range(0, 11):\n",
        "  thresholds.append(i/10)\n",
        "\n",
        "print(thresholds)"
      ],
      "metadata": {
        "colab": {
          "base_uri": "https://localhost:8080/"
        },
        "id": "uSqG2F0mU7vG",
        "outputId": "b9e017e2-e056-4159-a1ec-fee0637d9112"
      },
      "execution_count": 95,
      "outputs": [
        {
          "output_type": "stream",
          "name": "stdout",
          "text": [
            "[0.0, 0.1, 0.2, 0.3, 0.4, 0.5, 0.6, 0.7, 0.8, 0.9, 1.0]\n"
          ]
        }
      ]
    },
    {
      "cell_type": "markdown",
      "source": [
        "Now training the model on 90% training data using Logistic Regression, and evaluating the performance on 10% test data, using AUC-ROC curve."
      ],
      "metadata": {
        "id": "MkeL7998c-wL"
      }
    },
    {
      "cell_type": "code",
      "source": [
        "logreg = LogisticRegression()\n",
        "logreg.fit(x_train_numpy, y_train_numpy)\n",
        "y_pred = logreg.predict(x_test_numpy)\n",
        "probabilities = logreg.predict_proba(x_test_numpy)[:, 1]\n",
        "\n",
        "tpr_array = []\n",
        "fpr_array = []\n",
        "\n",
        "for i in thresholds:\n",
        "  tpr, fpr = get_tpr_fpr(y_test_numpy, probabilities, i)\n",
        "  tpr_array.append(tpr)\n",
        "  fpr_array.append(fpr)\n",
        "\n",
        "plt.title(\"AUC-ROC Curve\") \n",
        "plt.xlabel(\"FPR\") \n",
        "plt.ylabel(\"TPR\") \n",
        "plt.plot(fpr_array, tpr_array) \n",
        "plt.show()"
      ],
      "metadata": {
        "colab": {
          "base_uri": "https://localhost:8080/",
          "height": 295
        },
        "id": "IVuqFgzYtfNj",
        "outputId": "ca0f309b-cae0-4db8-ba7a-e48053646f8e"
      },
      "execution_count": 96,
      "outputs": [
        {
          "output_type": "display_data",
          "data": {
            "text/plain": [
              "<Figure size 432x288 with 1 Axes>"
            ],
            "image/png": "[encoded data removed]"
          },
          "metadata": {
            "needs_background": "light"
          }
        }
      ]
    },
    {
      "cell_type": "markdown",
      "source": [
        "Using sklearn library for plotting auc-roc curve."
      ],
      "metadata": {
        "id": "GSyk-5gsdjMw"
      }
    },
    {
      "cell_type": "code",
      "source": [
        "from sklearn.metrics import roc_curve, auc\n",
        "\n",
        "fpr, tpr, _ = roc_curve(y_test_numpy, y_pred)\n",
        "roc_auc = auc(fpr, tpr)\n",
        "plt.figure()\n",
        "plt.plot(fpr, tpr, label='ROC curve (area = %0.2f)' % roc_auc)\n",
        "plt.plot([0, 1], [0, 1], 'k--')\n",
        "plt.xlim([0.0, 1.0])\n",
        "plt.ylim([0.0, 1.05])\n",
        "plt.xlabel('False Positive Rate')\n",
        "plt.ylabel('True Positive Rate')\n",
        "plt.title('Receiver operating characteristic')\n",
        "plt.legend(loc=\"lower right\")\n",
        "plt.show()"
      ],
      "metadata": {
        "colab": {
          "base_uri": "https://localhost:8080/",
          "height": 295
        },
        "id": "lPguMnfHxvIF",
        "outputId": "f43d9e2c-c990-4960-aeb1-7c31eaa9f6fa"
      },
      "execution_count": 97,
      "outputs": [
        {
          "output_type": "display_data",
          "data": {
            "text/plain": [
              "<Figure size 432x288 with 1 Axes>"
            ],
            "image/png": "[encoded data removed]"
          },
          "metadata": {
            "needs_background": "light"
          }
        }
      ]
    },
    {
      "cell_type": "markdown",
      "source": [
        "Installing libraries to input MNIST dataset."
      ],
      "metadata": {
        "id": "gcKlvlwDlmMI"
      }
    },
    {
      "cell_type": "code",
      "source": [
        "pip install idx2numpy"
      ],
      "metadata": {
        "colab": {
          "base_uri": "https://localhost:8080/"
        },
        "id": "02ea8ei4k3a2",
        "outputId": "414a969e-fd06-4455-d515-c32f2e5fa5bb"
      },
      "execution_count": 98,
      "outputs": [
        {
          "output_type": "stream",
          "name": "stdout",
          "text": [
            "Requirement already satisfied: idx2numpy in /usr/local/lib/python3.7/dist-packages (1.2.3)\n",
            "Requirement already satisfied: numpy in /usr/local/lib/python3.7/dist-packages (from idx2numpy) (1.21.5)\n",
            "Requirement already satisfied: six in /usr/local/lib/python3.7/dist-packages (from idx2numpy) (1.15.0)\n"
          ]
        }
      ]
    },
    {
      "cell_type": "markdown",
      "source": [
        "Importing MNIST dataset and reducing the dimensions of the data using Principal Component Analysis (PCA)."
      ],
      "metadata": {
        "id": "ZFUY1lpZlsMi"
      }
    },
    {
      "cell_type": "code",
      "source": [
        "import idx2numpy\n",
        "X = pd.read_csv('/content/gdrive/My Drive/Colab Notebooks/pixel_data.csv', index_col = 0)\n",
        "ndarray_labels = idx2numpy.convert_from_file('/content/gdrive/My Drive/Colab Notebooks/train-labels.idx1-ubyte')\n",
        "Y = pd.DataFrame(ndarray_labels, columns = ['labels'])\n",
        "principalComponents = pca.fit_transform(np.array(X))\n",
        "principalDf = pd.DataFrame(data = principalComponents, columns = ['principal_component_1', 'principal_component_2'])\n",
        "principalDf"
      ],
      "metadata": {
        "colab": {
          "base_uri": "https://localhost:8080/",
          "height": 423
        },
        "id": "KT30MLkZkSAq",
        "outputId": "772191dc-7e6c-43d2-f001-f4639b8d26f9"
      },
      "execution_count": 99,
      "outputs": [
        {
          "output_type": "execute_result",
          "data": {
            "text/plain": [
              "       principal_component_1  principal_component_2\n",
              "0                 123.932217            -312.722407\n",
              "1                1011.718404            -294.864287\n",
              "2                 -51.850129             392.160990\n",
              "3                -799.126789            -607.214075\n",
              "4                -382.754889             730.596238\n",
              "...                      ...                    ...\n",
              "59995             -99.620951            -293.450582\n",
              "59996             152.757735            -687.872976\n",
              "59997            -178.053324             160.040113\n",
              "59998             130.605927              -5.599355\n",
              "59999            -173.436498             -24.747938\n",
              "\n",
              "[60000 rows x 2 columns]"
            ],
            "text/html": [
              "\n",
              "  <div id=\"df-d79bdc83-2427-4e3d-98a3-5b6af1c46ade\">\n",
              "    <div class=\"colab-df-container\">\n",
              "      <div>\n",
              "<style scoped>\n",
              "    .dataframe tbody tr th:only-of-type {\n",
              "        vertical-align: middle;\n",
              "    }\n",
              "\n",
              "    .dataframe tbody tr th {\n",
              "        vertical-align: top;\n",
              "    }\n",
              "\n",
              "    .dataframe thead th {\n",
              "        text-align: right;\n",
              "    }\n",
              "</style>\n",
              "<table border=\"1\" class=\"dataframe\">\n",
              "  <thead>\n",
              "    <tr style=\"text-align: right;\">\n",
              "      <th></th>\n",
              "      <th>principal_component_1</th>\n",
              "      <th>principal_component_2</th>\n",
              "    </tr>\n",
              "  </thead>\n",
              "  <tbody>\n",
              "    <tr>\n",
              "      <th>0</th>\n",
              "      <td>123.932217</td>\n",
              "      <td>-312.722407</td>\n",
              "    </tr>\n",
              "    <tr>\n",
              "      <th>1</th>\n",
              "      <td>1011.718404</td>\n",
              "      <td>-294.864287</td>\n",
              "    </tr>\n",
              "    <tr>\n",
              "      <th>2</th>\n",
              "      <td>-51.850129</td>\n",
              "      <td>392.160990</td>\n",
              "    </tr>\n",
              "    <tr>\n",
              "      <th>3</th>\n",
              "      <td>-799.126789</td>\n",
              "      <td>-607.214075</td>\n",
              "    </tr>\n",
              "    <tr>\n",
              "      <th>4</th>\n",
              "      <td>-382.754889</td>\n",
              "      <td>730.596238</td>\n",
              "    </tr>\n",
              "    <tr>\n",
              "      <th>...</th>\n",
              "      <td>...</td>\n",
              "      <td>...</td>\n",
              "    </tr>\n",
              "    <tr>\n",
              "      <th>59995</th>\n",
              "      <td>-99.620951</td>\n",
              "      <td>-293.450582</td>\n",
              "    </tr>\n",
              "    <tr>\n",
              "      <th>59996</th>\n",
              "      <td>152.757735</td>\n",
              "      <td>-687.872976</td>\n",
              "    </tr>\n",
              "    <tr>\n",
              "      <th>59997</th>\n",
              "      <td>-178.053324</td>\n",
              "      <td>160.040113</td>\n",
              "    </tr>\n",
              "    <tr>\n",
              "      <th>59998</th>\n",
              "      <td>130.605927</td>\n",
              "      <td>-5.599355</td>\n",
              "    </tr>\n",
              "    <tr>\n",
              "      <th>59999</th>\n",
              "      <td>-173.436498</td>\n",
              "      <td>-24.747938</td>\n",
              "    </tr>\n",
              "  </tbody>\n",
              "</table>\n",
              "<p>60000 rows × 2 columns</p>\n",
              "</div>\n",
              "      <button class=\"colab-df-convert\" onclick=\"convertToInteractive('df-d79bdc83-2427-4e3d-98a3-5b6af1c46ade')\"\n",
              "              title=\"Convert this dataframe to an interactive table.\"\n",
              "              style=\"display:none;\">\n",
              "        \n",
              "  <svg xmlns=\"http://www.w3.org/2000/svg\" height=\"24px\"viewBox=\"0 0 24 24\"\n",
              "       width=\"24px\">\n",
              "    <path d=\"M0 0h24v24H0V0z\" fill=\"none\"/>\n",
              "    <path d=\"M18.56 5.44l.94 2.06.94-2.06 2.06-.94-2.06-.94-.94-2.06-.94 2.06-2.06.94zm-11 1L8.5 8.5l.94-2.06 2.06-.94-2.06-.94L8.5 2.5l-.94 2.06-2.06.94zm10 10l.94 2.06.94-2.06 2.06-.94-2.06-.94-.94-2.06-.94 2.06-2.06.94z\"/><path d=\"M17.41 7.96l-1.37-1.37c-.4-.4-.92-.59-1.43-.59-.52 0-1.04.2-1.43.59L10.3 9.45l-7.72 7.72c-.78.78-.78 2.05 0 2.83L4 21.41c.39.39.9.59 1.41.59.51 0 1.02-.2 1.41-.59l7.78-7.78 2.81-2.81c.8-.78.8-2.07 0-2.86zM5.41 20L4 18.59l7.72-7.72 1.47 1.35L5.41 20z\"/>\n",
              "  </svg>\n",
              "      </button>\n",
              "      \n",
              "  <style>\n",
              "    .colab-df-container {\n",
              "      display:flex;\n",
              "      flex-wrap:wrap;\n",
              "      gap: 12px;\n",
              "    }\n",
              "\n",
              "    .colab-df-convert {\n",
              "      background-color: #E8F0FE;\n",
              "      border: none;\n",
              "      border-radius: 50%;\n",
              "      cursor: pointer;\n",
              "      display: none;\n",
              "      fill: #1967D2;\n",
              "      height: 32px;\n",
              "      padding: 0 0 0 0;\n",
              "      width: 32px;\n",
              "    }\n",
              "\n",
              "    .colab-df-convert:hover {\n",
              "      background-color: #E2EBFA;\n",
              "      box-shadow: 0px 1px 2px rgba(60, 64, 67, 0.3), 0px 1px 3px 1px rgba(60, 64, 67, 0.15);\n",
              "      fill: #174EA6;\n",
              "    }\n",
              "\n",
              "    [theme=dark] .colab-df-convert {\n",
              "      background-color: #3B4455;\n",
              "      fill: #D2E3FC;\n",
              "    }\n",
              "\n",
              "    [theme=dark] .colab-df-convert:hover {\n",
              "      background-color: #434B5C;\n",
              "      box-shadow: 0px 1px 3px 1px rgba(0, 0, 0, 0.15);\n",
              "      filter: drop-shadow(0px 1px 2px rgba(0, 0, 0, 0.3));\n",
              "      fill: #FFFFFF;\n",
              "    }\n",
              "  </style>\n",
              "\n",
              "      <script>\n",
              "        const buttonEl =\n",
              "          document.querySelector('#df-d79bdc83-2427-4e3d-98a3-5b6af1c46ade button.colab-df-convert');\n",
              "        buttonEl.style.display =\n",
              "          google.colab.kernel.accessAllowed ? 'block' : 'none';\n",
              "\n",
              "        async function convertToInteractive(key) {\n",
              "          const element = document.querySelector('#df-d79bdc83-2427-4e3d-98a3-5b6af1c46ade');\n",
              "          const dataTable =\n",
              "            await google.colab.kernel.invokeFunction('convertToInteractive',\n",
              "                                                     [key], {});\n",
              "          if (!dataTable) return;\n",
              "\n",
              "          const docLinkHtml = 'Like what you see? Visit the ' +\n",
              "            '<a target=\"_blank\" href=https://colab.research.google.com/notebooks/data_table.ipynb>data table notebook</a>'\n",
              "            + ' to learn more about interactive tables.';\n",
              "          element.innerHTML = '';\n",
              "          dataTable['output_type'] = 'display_data';\n",
              "          await google.colab.output.renderOutput(dataTable, element);\n",
              "          const docLink = document.createElement('div');\n",
              "          docLink.innerHTML = docLinkHtml;\n",
              "          element.appendChild(docLink);\n",
              "        }\n",
              "      </script>\n",
              "    </div>\n",
              "  </div>\n",
              "  "
            ]
          },
          "metadata": {},
          "execution_count": 99
        }
      ]
    },
    {
      "cell_type": "markdown",
      "source": [
        "Using 90% data for training and 10% data for testing."
      ],
      "metadata": {
        "id": "5BaiJbmlQP3m"
      }
    },
    {
      "cell_type": "code",
      "source": [
        "X_train, X_test, Y_train, Y_test = train_test_split(principalDf, Y, test_size = 0.1)"
      ],
      "metadata": {
        "id": "FOD_pN7aQUNP"
      },
      "execution_count": 100,
      "outputs": []
    },
    {
      "cell_type": "markdown",
      "source": [
        "Using One-vs-One (OVO) and One-vs-Rest (OVR) classifier with logistic regression on the MNIST dataset."
      ],
      "metadata": {
        "id": "erR5aC-el0-T"
      }
    },
    {
      "cell_type": "code",
      "source": [
        "from sklearn.multiclass import OneVsOneClassifier, OneVsRestClassifier\n",
        "\n",
        "model = LogisticRegression()\n",
        "ovo = OneVsOneClassifier(model)\n",
        "\n",
        "Y_train_numpy = np.array(Y_train).ravel()\n",
        "ovo.fit(X_train, Y_train_numpy)\n",
        "ovo_pred = ovo.predict(X_test)\n",
        "\n",
        "print(\"Accuracy of OVO classifier = \"+str(accuracy_score(ovo_pred, Y_test)))\n",
        "print(\"Classification report for this OVO classifier\")\n",
        "classification_report_model = classification_report(ovo_pred, Y_test)\n",
        "print(classification_report_model)"
      ],
      "metadata": {
        "colab": {
          "base_uri": "https://localhost:8080/"
        },
        "id": "lT_biQKCdpuU",
        "outputId": "5fc7b339-b67d-4885-c244-bbea8c6dba25"
      },
      "execution_count": 101,
      "outputs": [
        {
          "output_type": "stream",
          "name": "stdout",
          "text": [
            "Accuracy of OVO classifier = 0.449\n",
            "Classification report for this OVO classifier\n",
            "              precision    recall  f1-score   support\n",
            "\n",
            "           0       0.77      0.63      0.69       713\n",
            "           1       0.96      0.81      0.88       757\n",
            "           2       0.15      0.27      0.19       325\n",
            "           3       0.63      0.47      0.54       864\n",
            "           4       0.38      0.35      0.37       628\n",
            "           5       0.02      0.29      0.03        35\n",
            "           6       0.48      0.31      0.38       869\n",
            "           7       0.66      0.43      0.52      1039\n",
            "           8       0.24      0.27      0.25       530\n",
            "           9       0.09      0.22      0.13       240\n",
            "\n",
            "    accuracy                           0.45      6000\n",
            "   macro avg       0.44      0.40      0.40      6000\n",
            "weighted avg       0.56      0.45      0.49      6000\n",
            "\n"
          ]
        }
      ]
    },
    {
      "cell_type": "code",
      "source": [
        "ovr = OneVsRestClassifier(model)\n",
        "ovr.fit(X_train, Y_train_numpy)\n",
        "ovr_pred = ovr.predict(X_test)\n",
        "\n",
        "print(\"Accuracy of OVR classifier = \"+str(accuracy_score(ovr_pred, Y_test)))\n",
        "print(\"Classification report for this OVR classifier\")\n",
        "classification_report_model = classification_report(ovr_pred, Y_test, zero_division=0)\n",
        "print(classification_report_model)"
      ],
      "metadata": {
        "colab": {
          "base_uri": "https://localhost:8080/"
        },
        "id": "ru64zol8jVme",
        "outputId": "c4ec46d0-1e47-4138-9c02-d8df76807a18"
      },
      "execution_count": 102,
      "outputs": [
        {
          "output_type": "stream",
          "name": "stdout",
          "text": [
            "Accuracy of OVR classifier = 0.43516666666666665\n",
            "Classification report for this OVR classifier\n",
            "              precision    recall  f1-score   support\n",
            "\n",
            "           0       0.82      0.52      0.64       912\n",
            "           1       0.97      0.79      0.87       788\n",
            "           2       0.10      0.23      0.14       260\n",
            "           3       0.66      0.45      0.53       954\n",
            "           4       0.40      0.36      0.37       638\n",
            "           5       0.00      0.00      0.00         0\n",
            "           6       0.34      0.28      0.31       666\n",
            "           7       0.68      0.41      0.51      1111\n",
            "           8       0.22      0.25      0.23       532\n",
            "           9       0.05      0.19      0.07       139\n",
            "\n",
            "    accuracy                           0.44      6000\n",
            "   macro avg       0.42      0.35      0.37      6000\n",
            "weighted avg       0.59      0.44      0.49      6000\n",
            "\n"
          ]
        }
      ]
    }
  ]
}