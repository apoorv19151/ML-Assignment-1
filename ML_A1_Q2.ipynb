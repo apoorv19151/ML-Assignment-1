{
  "nbformat": 4,
  "nbformat_minor": 0,
  "metadata": {
    "colab": {
      "name": "ML_A1_Q2.ipynb",
      "provenance": [],
      "collapsed_sections": [],
      "authorship_tag": "ABX9TyNS0HwpUmfthfzNvihO8Ytg",
      "include_colab_link": true
    },
    "kernelspec": {
      "name": "python3",
      "display_name": "Python 3"
    },
    "language_info": {
      "name": "python"
    }
  },
  "cells": [
    {
      "cell_type": "markdown",
      "metadata": {
        "id": "view-in-github",
        "colab_type": "text"
      },
      "source": [
        "<a href=\"https://colab.research.google.com/github/apoorv19151/ML-Assignment-1/blob/main/ML_A1_Q2.ipynb\" target=\"_parent\"><img src=\"https://colab.research.google.com/assets/colab-badge.svg\" alt=\"Open In Colab\"/></a>"
      ]
    },
    {
      "cell_type": "markdown",
      "source": [
        "**Machine Learning Assignment-1**\n",
        "\n",
        "Answer to Q2 goes here, installing required libraries and importing the Abalone Dataset. One-hot encoding is performed to handle categorical attributes."
      ],
      "metadata": {
        "id": "-LVk43btl9F3"
      }
    },
    {
      "cell_type": "code",
      "execution_count": 18,
      "metadata": {
        "colab": {
          "base_uri": "https://localhost:8080/"
        },
        "id": "EzaoKXRPkl2N",
        "outputId": "4ff5408b-61c4-457e-a402-e85692708818"
      },
      "outputs": [
        {
          "output_type": "stream",
          "name": "stdout",
          "text": [
            "Drive already mounted at /content/gdrive; to attempt to forcibly remount, call drive.mount(\"/content/gdrive\", force_remount=True).\n"
          ]
        }
      ],
      "source": [
        "from google.colab import drive\n",
        "drive.mount('/content/gdrive')"
      ]
    },
    {
      "cell_type": "code",
      "source": [
        "from google.colab import files"
      ],
      "metadata": {
        "id": "P0zkEKS7U8Vq"
      },
      "execution_count": 19,
      "outputs": []
    },
    {
      "cell_type": "code",
      "source": [
        "pip install category-encoders"
      ],
      "metadata": {
        "colab": {
          "base_uri": "https://localhost:8080/"
        },
        "id": "f7Q9igIulBoX",
        "outputId": "06279e78-0f82-4deb-bccb-19b2fa56e34f"
      },
      "execution_count": 20,
      "outputs": [
        {
          "output_type": "stream",
          "name": "stdout",
          "text": [
            "Requirement already satisfied: category-encoders in /usr/local/lib/python3.7/dist-packages (2.4.0)\n",
            "Requirement already satisfied: pandas>=0.21.1 in /usr/local/lib/python3.7/dist-packages (from category-encoders) (1.3.5)\n",
            "Requirement already satisfied: numpy>=1.14.0 in /usr/local/lib/python3.7/dist-packages (from category-encoders) (1.21.5)\n",
            "Requirement already satisfied: patsy>=0.5.1 in /usr/local/lib/python3.7/dist-packages (from category-encoders) (0.5.2)\n",
            "Requirement already satisfied: scikit-learn>=0.20.0 in /usr/local/lib/python3.7/dist-packages (from category-encoders) (1.0.2)\n",
            "Requirement already satisfied: statsmodels>=0.9.0 in /usr/local/lib/python3.7/dist-packages (from category-encoders) (0.10.2)\n",
            "Requirement already satisfied: scipy>=1.0.0 in /usr/local/lib/python3.7/dist-packages (from category-encoders) (1.4.1)\n",
            "Requirement already satisfied: pytz>=2017.3 in /usr/local/lib/python3.7/dist-packages (from pandas>=0.21.1->category-encoders) (2018.9)\n",
            "Requirement already satisfied: python-dateutil>=2.7.3 in /usr/local/lib/python3.7/dist-packages (from pandas>=0.21.1->category-encoders) (2.8.2)\n",
            "Requirement already satisfied: six in /usr/local/lib/python3.7/dist-packages (from patsy>=0.5.1->category-encoders) (1.15.0)\n",
            "Requirement already satisfied: joblib>=0.11 in /usr/local/lib/python3.7/dist-packages (from scikit-learn>=0.20.0->category-encoders) (1.1.0)\n",
            "Requirement already satisfied: threadpoolctl>=2.0.0 in /usr/local/lib/python3.7/dist-packages (from scikit-learn>=0.20.0->category-encoders) (3.1.0)\n"
          ]
        }
      ]
    },
    {
      "cell_type": "code",
      "source": [
        "import numpy as np\n",
        "import pandas as pd\n",
        "from matplotlib import pyplot as plt\n",
        "import category_encoders as ce\n",
        "abalone_data = pd.read_csv('/content/gdrive/My Drive/Colab Notebooks/abalone_dataset.csv')\n",
        "encoder = ce.OneHotEncoder(use_cat_names=True)\n",
        "df_encoded = encoder.fit_transform(abalone_data)\n",
        "df_encoded.head()"
      ],
      "metadata": {
        "colab": {
          "base_uri": "https://localhost:8080/",
          "height": 206
        },
        "id": "1GOxNgk5lFUj",
        "outputId": "9bd713b3-a993-4124-a412-fb6243b77570"
      },
      "execution_count": 21,
      "outputs": [
        {
          "output_type": "execute_result",
          "data": {
            "text/plain": [
              "   Sex_M  Sex_F  Sex_I  Length  Diameter  Height  Whole weight  \\\n",
              "0      1      0      0   0.455     0.365   0.095        0.5140   \n",
              "1      1      0      0   0.350     0.265   0.090        0.2255   \n",
              "2      0      1      0   0.530     0.420   0.135        0.6770   \n",
              "3      1      0      0   0.440     0.365   0.125        0.5160   \n",
              "4      0      0      1   0.330     0.255   0.080        0.2050   \n",
              "\n",
              "   Shucked weight  Viscera weight  Shell weight  Rings  \n",
              "0          0.2245          0.1010         0.150     15  \n",
              "1          0.0995          0.0485         0.070      7  \n",
              "2          0.2565          0.1415         0.210      9  \n",
              "3          0.2155          0.1140         0.155     10  \n",
              "4          0.0895          0.0395         0.055      7  "
            ],
            "text/html": [
              "\n",
              "  <div id=\"df-1a8c753b-0a72-4e25-997e-991a59c623c2\">\n",
              "    <div class=\"colab-df-container\">\n",
              "      <div>\n",
              "<style scoped>\n",
              "    .dataframe tbody tr th:only-of-type {\n",
              "        vertical-align: middle;\n",
              "    }\n",
              "\n",
              "    .dataframe tbody tr th {\n",
              "        vertical-align: top;\n",
              "    }\n",
              "\n",
              "    .dataframe thead th {\n",
              "        text-align: right;\n",
              "    }\n",
              "</style>\n",
              "<table border=\"1\" class=\"dataframe\">\n",
              "  <thead>\n",
              "    <tr style=\"text-align: right;\">\n",
              "      <th></th>\n",
              "      <th>Sex_M</th>\n",
              "      <th>Sex_F</th>\n",
              "      <th>Sex_I</th>\n",
              "      <th>Length</th>\n",
              "      <th>Diameter</th>\n",
              "      <th>Height</th>\n",
              "      <th>Whole weight</th>\n",
              "      <th>Shucked weight</th>\n",
              "      <th>Viscera weight</th>\n",
              "      <th>Shell weight</th>\n",
              "      <th>Rings</th>\n",
              "    </tr>\n",
              "  </thead>\n",
              "  <tbody>\n",
              "    <tr>\n",
              "      <th>0</th>\n",
              "      <td>1</td>\n",
              "      <td>0</td>\n",
              "      <td>0</td>\n",
              "      <td>0.455</td>\n",
              "      <td>0.365</td>\n",
              "      <td>0.095</td>\n",
              "      <td>0.5140</td>\n",
              "      <td>0.2245</td>\n",
              "      <td>0.1010</td>\n",
              "      <td>0.150</td>\n",
              "      <td>15</td>\n",
              "    </tr>\n",
              "    <tr>\n",
              "      <th>1</th>\n",
              "      <td>1</td>\n",
              "      <td>0</td>\n",
              "      <td>0</td>\n",
              "      <td>0.350</td>\n",
              "      <td>0.265</td>\n",
              "      <td>0.090</td>\n",
              "      <td>0.2255</td>\n",
              "      <td>0.0995</td>\n",
              "      <td>0.0485</td>\n",
              "      <td>0.070</td>\n",
              "      <td>7</td>\n",
              "    </tr>\n",
              "    <tr>\n",
              "      <th>2</th>\n",
              "      <td>0</td>\n",
              "      <td>1</td>\n",
              "      <td>0</td>\n",
              "      <td>0.530</td>\n",
              "      <td>0.420</td>\n",
              "      <td>0.135</td>\n",
              "      <td>0.6770</td>\n",
              "      <td>0.2565</td>\n",
              "      <td>0.1415</td>\n",
              "      <td>0.210</td>\n",
              "      <td>9</td>\n",
              "    </tr>\n",
              "    <tr>\n",
              "      <th>3</th>\n",
              "      <td>1</td>\n",
              "      <td>0</td>\n",
              "      <td>0</td>\n",
              "      <td>0.440</td>\n",
              "      <td>0.365</td>\n",
              "      <td>0.125</td>\n",
              "      <td>0.5160</td>\n",
              "      <td>0.2155</td>\n",
              "      <td>0.1140</td>\n",
              "      <td>0.155</td>\n",
              "      <td>10</td>\n",
              "    </tr>\n",
              "    <tr>\n",
              "      <th>4</th>\n",
              "      <td>0</td>\n",
              "      <td>0</td>\n",
              "      <td>1</td>\n",
              "      <td>0.330</td>\n",
              "      <td>0.255</td>\n",
              "      <td>0.080</td>\n",
              "      <td>0.2050</td>\n",
              "      <td>0.0895</td>\n",
              "      <td>0.0395</td>\n",
              "      <td>0.055</td>\n",
              "      <td>7</td>\n",
              "    </tr>\n",
              "  </tbody>\n",
              "</table>\n",
              "</div>\n",
              "      <button class=\"colab-df-convert\" onclick=\"convertToInteractive('df-1a8c753b-0a72-4e25-997e-991a59c623c2')\"\n",
              "              title=\"Convert this dataframe to an interactive table.\"\n",
              "              style=\"display:none;\">\n",
              "        \n",
              "  <svg xmlns=\"http://www.w3.org/2000/svg\" height=\"24px\"viewBox=\"0 0 24 24\"\n",
              "       width=\"24px\">\n",
              "    <path d=\"M0 0h24v24H0V0z\" fill=\"none\"/>\n",
              "    <path d=\"M18.56 5.44l.94 2.06.94-2.06 2.06-.94-2.06-.94-.94-2.06-.94 2.06-2.06.94zm-11 1L8.5 8.5l.94-2.06 2.06-.94-2.06-.94L8.5 2.5l-.94 2.06-2.06.94zm10 10l.94 2.06.94-2.06 2.06-.94-2.06-.94-.94-2.06-.94 2.06-2.06.94z\"/><path d=\"M17.41 7.96l-1.37-1.37c-.4-.4-.92-.59-1.43-.59-.52 0-1.04.2-1.43.59L10.3 9.45l-7.72 7.72c-.78.78-.78 2.05 0 2.83L4 21.41c.39.39.9.59 1.41.59.51 0 1.02-.2 1.41-.59l7.78-7.78 2.81-2.81c.8-.78.8-2.07 0-2.86zM5.41 20L4 18.59l7.72-7.72 1.47 1.35L5.41 20z\"/>\n",
              "  </svg>\n",
              "      </button>\n",
              "      \n",
              "  <style>\n",
              "    .colab-df-container {\n",
              "      display:flex;\n",
              "      flex-wrap:wrap;\n",
              "      gap: 12px;\n",
              "    }\n",
              "\n",
              "    .colab-df-convert {\n",
              "      background-color: #E8F0FE;\n",
              "      border: none;\n",
              "      border-radius: 50%;\n",
              "      cursor: pointer;\n",
              "      display: none;\n",
              "      fill: #1967D2;\n",
              "      height: 32px;\n",
              "      padding: 0 0 0 0;\n",
              "      width: 32px;\n",
              "    }\n",
              "\n",
              "    .colab-df-convert:hover {\n",
              "      background-color: #E2EBFA;\n",
              "      box-shadow: 0px 1px 2px rgba(60, 64, 67, 0.3), 0px 1px 3px 1px rgba(60, 64, 67, 0.15);\n",
              "      fill: #174EA6;\n",
              "    }\n",
              "\n",
              "    [theme=dark] .colab-df-convert {\n",
              "      background-color: #3B4455;\n",
              "      fill: #D2E3FC;\n",
              "    }\n",
              "\n",
              "    [theme=dark] .colab-df-convert:hover {\n",
              "      background-color: #434B5C;\n",
              "      box-shadow: 0px 1px 3px 1px rgba(0, 0, 0, 0.15);\n",
              "      filter: drop-shadow(0px 1px 2px rgba(0, 0, 0, 0.3));\n",
              "      fill: #FFFFFF;\n",
              "    }\n",
              "  </style>\n",
              "\n",
              "      <script>\n",
              "        const buttonEl =\n",
              "          document.querySelector('#df-1a8c753b-0a72-4e25-997e-991a59c623c2 button.colab-df-convert');\n",
              "        buttonEl.style.display =\n",
              "          google.colab.kernel.accessAllowed ? 'block' : 'none';\n",
              "\n",
              "        async function convertToInteractive(key) {\n",
              "          const element = document.querySelector('#df-1a8c753b-0a72-4e25-997e-991a59c623c2');\n",
              "          const dataTable =\n",
              "            await google.colab.kernel.invokeFunction('convertToInteractive',\n",
              "                                                     [key], {});\n",
              "          if (!dataTable) return;\n",
              "\n",
              "          const docLinkHtml = 'Like what you see? Visit the ' +\n",
              "            '<a target=\"_blank\" href=https://colab.research.google.com/notebooks/data_table.ipynb>data table notebook</a>'\n",
              "            + ' to learn more about interactive tables.';\n",
              "          element.innerHTML = '';\n",
              "          dataTable['output_type'] = 'display_data';\n",
              "          await google.colab.output.renderOutput(dataTable, element);\n",
              "          const docLink = document.createElement('div');\n",
              "          docLink.innerHTML = docLinkHtml;\n",
              "          element.appendChild(docLink);\n",
              "        }\n",
              "      </script>\n",
              "    </div>\n",
              "  </div>\n",
              "  "
            ]
          },
          "metadata": {},
          "execution_count": 21
        }
      ]
    },
    {
      "cell_type": "markdown",
      "source": [
        "Now, plotting histograms for some of the attributes"
      ],
      "metadata": {
        "id": "twqcht7gm6sd"
      }
    },
    {
      "cell_type": "code",
      "source": [
        "abalone_length = np.array(abalone_data['Length'])\n",
        "abalone_diameter = np.array(abalone_data['Diameter'])\n",
        "abalone_height = np.array(abalone_data['Height'])\n",
        "\n",
        "fig, plot_5 = plt.subplots(figsize = (10, 7))\n",
        "plot_5.hist(abalone_length, bins = [0.0, 0.1, 0.2, 0.3, 0.4, 0.5, 0.6, 0.7, 0.8, 0.9, 1.0])\n",
        "plt.title('Abalone Length Histogram')\n",
        "plt.xlabel(\"x-axis (length in mm)\")\n",
        "plt.ylabel(\"y-axis (count)\")"
      ],
      "metadata": {
        "colab": {
          "base_uri": "https://localhost:8080/",
          "height": 475
        },
        "id": "oYNrd7QJldgc",
        "outputId": "a9686b94-060d-446b-8201-704a50be1a86"
      },
      "execution_count": 22,
      "outputs": [
        {
          "output_type": "execute_result",
          "data": {
            "text/plain": [
              "Text(0, 0.5, 'y-axis (count)')"
            ]
          },
          "metadata": {},
          "execution_count": 22
        },
        {
          "output_type": "display_data",
          "data": {
            "text/plain": [
              "<Figure size 720x504 with 1 Axes>"
            ],
            "image/png": "[encoded data removed]"
          },
          "metadata": {
            "needs_background": "light"
          }
        }
      ]
    },
    {
      "cell_type": "code",
      "source": [
        "fig, plot_6 = plt.subplots(figsize = (10, 7))\n",
        "plot_6.hist(abalone_diameter, bins = [0.0, 0.1, 0.2, 0.3, 0.4, 0.5, 0.6, 0.7, 0.8, 0.9, 1.0])\n",
        "plt.title('Abalone Diameter Histogram')\n",
        "plt.xlabel(\"x-axis (diameter in mm)\")\n",
        "plt.ylabel(\"y-axis (count)\")"
      ],
      "metadata": {
        "colab": {
          "base_uri": "https://localhost:8080/",
          "height": 475
        },
        "id": "Fy63V7pTlssR",
        "outputId": "9b409e9c-d34e-42d9-c126-b446069c07cf"
      },
      "execution_count": 23,
      "outputs": [
        {
          "output_type": "execute_result",
          "data": {
            "text/plain": [
              "Text(0, 0.5, 'y-axis (count)')"
            ]
          },
          "metadata": {},
          "execution_count": 23
        },
        {
          "output_type": "display_data",
          "data": {
            "text/plain": [
              "<Figure size 720x504 with 1 Axes>"
            ],
            "image/png": "[encoded data removed]"
          },
          "metadata": {
            "needs_background": "light"
          }
        }
      ]
    },
    {
      "cell_type": "code",
      "source": [
        "fig, plot_7 = plt.subplots(figsize = (10, 7))\n",
        "plot_7.hist(abalone_height, bins = [0.0, 0.05, 0.10, 0.15, 0.20, 0.25, 0.30, 0.35])\n",
        "plt.title('Abalone Height Histogram')\n",
        "plt.xlabel(\"x-axis (height in mm)\")\n",
        "plt.ylabel(\"y-axis (count)\")"
      ],
      "metadata": {
        "colab": {
          "base_uri": "https://localhost:8080/",
          "height": 475
        },
        "id": "RbUFL7yklyDF",
        "outputId": "49d2b4d3-4a0b-4cfa-f0f4-3b708aade244"
      },
      "execution_count": 24,
      "outputs": [
        {
          "output_type": "execute_result",
          "data": {
            "text/plain": [
              "Text(0, 0.5, 'y-axis (count)')"
            ]
          },
          "metadata": {},
          "execution_count": 24
        },
        {
          "output_type": "display_data",
          "data": {
            "text/plain": [
              "<Figure size 720x504 with 1 Axes>"
            ],
            "image/png": "[encoded data removed]"
          },
          "metadata": {
            "needs_background": "light"
          }
        }
      ]
    },
    {
      "cell_type": "markdown",
      "source": [
        "Performing normalization of data attributes using sklearn library and dividing the dataset into 90% train set and 10% test set."
      ],
      "metadata": {
        "id": "ox4lbupvnB-C"
      }
    },
    {
      "cell_type": "code",
      "source": [
        "from sklearn.model_selection import train_test_split\n",
        "from sklearn.preprocessing import MinMaxScaler\n",
        "X = df_encoded.drop('Rings', axis = 1)\n",
        "Y = df_encoded['Rings']\n",
        "norm = MinMaxScaler().fit(X)\n",
        "X_norm = norm.transform(X)\n",
        "X_norm_df = pd.DataFrame(X_norm, columns = ['Sex_M', 'Sex_F', 'Sex_I', 'Length', 'Diameter', 'Height', 'Whole weight', 'Shucked weight', 'Viscera weight', 'Shell Weight'])\n",
        "X_train, X_test, Y_train, Y_test = train_test_split(X_norm_df, Y, test_size = 0.1)\n",
        "X_train"
      ],
      "metadata": {
        "colab": {
          "base_uri": "https://localhost:8080/",
          "height": 423
        },
        "id": "w5b2mjm9l3LS",
        "outputId": "2a84c332-9fd7-4994-d8e0-e10db5f9c5fc"
      },
      "execution_count": 25,
      "outputs": [
        {
          "output_type": "execute_result",
          "data": {
            "text/plain": [
              "      Sex_M  Sex_F  Sex_I    Length  Diameter    Height  Whole weight  \\\n",
              "3153    1.0    0.0    0.0  0.472973  0.470588  0.088496      0.143970   \n",
              "2338    1.0    0.0    0.0  0.783784  0.722689  0.172566      0.573048   \n",
              "1258    0.0    0.0    1.0  0.479730  0.436975  0.084071      0.133168   \n",
              "3667    0.0    1.0    0.0  0.689189  0.613445  0.137168      0.365504   \n",
              "3128    0.0    1.0    0.0  0.750000  0.739496  0.168142      0.412077   \n",
              "...     ...    ...    ...       ...       ...       ...           ...   \n",
              "2537    0.0    0.0    1.0  0.790541  0.789916  0.190265      0.631840   \n",
              "2705    1.0    0.0    0.0  0.844595  0.831933  0.176991      0.538693   \n",
              "3116    1.0    0.0    0.0  0.527027  0.588235  0.119469      0.274659   \n",
              "3063    0.0    1.0    0.0  0.756757  0.731092  0.137168      0.404817   \n",
              "678     0.0    1.0    0.0  0.506757  0.546218  0.146018      0.288472   \n",
              "\n",
              "      Shucked weight  Viscera weight  Shell Weight  \n",
              "3153        0.117350        0.120474      0.133034  \n",
              "2338        0.421318        0.470704      0.481814  \n",
              "1258        0.117014        0.104674      0.102641  \n",
              "3667        0.293208        0.292298      0.317389  \n",
              "3128        0.359785        0.277814      0.160438  \n",
              "...              ...             ...           ...  \n",
              "2537        0.451580        0.475313      0.403587  \n",
              "2705        0.465367        0.402238      0.437469  \n",
              "3116        0.292535        0.225148      0.143498  \n",
              "3063        0.320444        0.398947      0.312905  \n",
              "678         0.167451        0.251481      0.262581  \n",
              "\n",
              "[3759 rows x 10 columns]"
            ],
            "text/html": [
              "\n",
              "  <div id=\"df-7c21ec2e-1f54-414c-836d-9b95e99c13a2\">\n",
              "    <div class=\"colab-df-container\">\n",
              "      <div>\n",
              "<style scoped>\n",
              "    .dataframe tbody tr th:only-of-type {\n",
              "        vertical-align: middle;\n",
              "    }\n",
              "\n",
              "    .dataframe tbody tr th {\n",
              "        vertical-align: top;\n",
              "    }\n",
              "\n",
              "    .dataframe thead th {\n",
              "        text-align: right;\n",
              "    }\n",
              "</style>\n",
              "<table border=\"1\" class=\"dataframe\">\n",
              "  <thead>\n",
              "    <tr style=\"text-align: right;\">\n",
              "      <th></th>\n",
              "      <th>Sex_M</th>\n",
              "      <th>Sex_F</th>\n",
              "      <th>Sex_I</th>\n",
              "      <th>Length</th>\n",
              "      <th>Diameter</th>\n",
              "      <th>Height</th>\n",
              "      <th>Whole weight</th>\n",
              "      <th>Shucked weight</th>\n",
              "      <th>Viscera weight</th>\n",
              "      <th>Shell Weight</th>\n",
              "    </tr>\n",
              "  </thead>\n",
              "  <tbody>\n",
              "    <tr>\n",
              "      <th>3153</th>\n",
              "      <td>1.0</td>\n",
              "      <td>0.0</td>\n",
              "      <td>0.0</td>\n",
              "      <td>0.472973</td>\n",
              "      <td>0.470588</td>\n",
              "      <td>0.088496</td>\n",
              "      <td>0.143970</td>\n",
              "      <td>0.117350</td>\n",
              "      <td>0.120474</td>\n",
              "      <td>0.133034</td>\n",
              "    </tr>\n",
              "    <tr>\n",
              "      <th>2338</th>\n",
              "      <td>1.0</td>\n",
              "      <td>0.0</td>\n",
              "      <td>0.0</td>\n",
              "      <td>0.783784</td>\n",
              "      <td>0.722689</td>\n",
              "      <td>0.172566</td>\n",
              "      <td>0.573048</td>\n",
              "      <td>0.421318</td>\n",
              "      <td>0.470704</td>\n",
              "      <td>0.481814</td>\n",
              "    </tr>\n",
              "    <tr>\n",
              "      <th>1258</th>\n",
              "      <td>0.0</td>\n",
              "      <td>0.0</td>\n",
              "      <td>1.0</td>\n",
              "      <td>0.479730</td>\n",
              "      <td>0.436975</td>\n",
              "      <td>0.084071</td>\n",
              "      <td>0.133168</td>\n",
              "      <td>0.117014</td>\n",
              "      <td>0.104674</td>\n",
              "      <td>0.102641</td>\n",
              "    </tr>\n",
              "    <tr>\n",
              "      <th>3667</th>\n",
              "      <td>0.0</td>\n",
              "      <td>1.0</td>\n",
              "      <td>0.0</td>\n",
              "      <td>0.689189</td>\n",
              "      <td>0.613445</td>\n",
              "      <td>0.137168</td>\n",
              "      <td>0.365504</td>\n",
              "      <td>0.293208</td>\n",
              "      <td>0.292298</td>\n",
              "      <td>0.317389</td>\n",
              "    </tr>\n",
              "    <tr>\n",
              "      <th>3128</th>\n",
              "      <td>0.0</td>\n",
              "      <td>1.0</td>\n",
              "      <td>0.0</td>\n",
              "      <td>0.750000</td>\n",
              "      <td>0.739496</td>\n",
              "      <td>0.168142</td>\n",
              "      <td>0.412077</td>\n",
              "      <td>0.359785</td>\n",
              "      <td>0.277814</td>\n",
              "      <td>0.160438</td>\n",
              "    </tr>\n",
              "    <tr>\n",
              "      <th>...</th>\n",
              "      <td>...</td>\n",
              "      <td>...</td>\n",
              "      <td>...</td>\n",
              "      <td>...</td>\n",
              "      <td>...</td>\n",
              "      <td>...</td>\n",
              "      <td>...</td>\n",
              "      <td>...</td>\n",
              "      <td>...</td>\n",
              "      <td>...</td>\n",
              "    </tr>\n",
              "    <tr>\n",
              "      <th>2537</th>\n",
              "      <td>0.0</td>\n",
              "      <td>0.0</td>\n",
              "      <td>1.0</td>\n",
              "      <td>0.790541</td>\n",
              "      <td>0.789916</td>\n",
              "      <td>0.190265</td>\n",
              "      <td>0.631840</td>\n",
              "      <td>0.451580</td>\n",
              "      <td>0.475313</td>\n",
              "      <td>0.403587</td>\n",
              "    </tr>\n",
              "    <tr>\n",
              "      <th>2705</th>\n",
              "      <td>1.0</td>\n",
              "      <td>0.0</td>\n",
              "      <td>0.0</td>\n",
              "      <td>0.844595</td>\n",
              "      <td>0.831933</td>\n",
              "      <td>0.176991</td>\n",
              "      <td>0.538693</td>\n",
              "      <td>0.465367</td>\n",
              "      <td>0.402238</td>\n",
              "      <td>0.437469</td>\n",
              "    </tr>\n",
              "    <tr>\n",
              "      <th>3116</th>\n",
              "      <td>1.0</td>\n",
              "      <td>0.0</td>\n",
              "      <td>0.0</td>\n",
              "      <td>0.527027</td>\n",
              "      <td>0.588235</td>\n",
              "      <td>0.119469</td>\n",
              "      <td>0.274659</td>\n",
              "      <td>0.292535</td>\n",
              "      <td>0.225148</td>\n",
              "      <td>0.143498</td>\n",
              "    </tr>\n",
              "    <tr>\n",
              "      <th>3063</th>\n",
              "      <td>0.0</td>\n",
              "      <td>1.0</td>\n",
              "      <td>0.0</td>\n",
              "      <td>0.756757</td>\n",
              "      <td>0.731092</td>\n",
              "      <td>0.137168</td>\n",
              "      <td>0.404817</td>\n",
              "      <td>0.320444</td>\n",
              "      <td>0.398947</td>\n",
              "      <td>0.312905</td>\n",
              "    </tr>\n",
              "    <tr>\n",
              "      <th>678</th>\n",
              "      <td>0.0</td>\n",
              "      <td>1.0</td>\n",
              "      <td>0.0</td>\n",
              "      <td>0.506757</td>\n",
              "      <td>0.546218</td>\n",
              "      <td>0.146018</td>\n",
              "      <td>0.288472</td>\n",
              "      <td>0.167451</td>\n",
              "      <td>0.251481</td>\n",
              "      <td>0.262581</td>\n",
              "    </tr>\n",
              "  </tbody>\n",
              "</table>\n",
              "<p>3759 rows × 10 columns</p>\n",
              "</div>\n",
              "      <button class=\"colab-df-convert\" onclick=\"convertToInteractive('df-7c21ec2e-1f54-414c-836d-9b95e99c13a2')\"\n",
              "              title=\"Convert this dataframe to an interactive table.\"\n",
              "              style=\"display:none;\">\n",
              "        \n",
              "  <svg xmlns=\"http://www.w3.org/2000/svg\" height=\"24px\"viewBox=\"0 0 24 24\"\n",
              "       width=\"24px\">\n",
              "    <path d=\"M0 0h24v24H0V0z\" fill=\"none\"/>\n",
              "    <path d=\"M18.56 5.44l.94 2.06.94-2.06 2.06-.94-2.06-.94-.94-2.06-.94 2.06-2.06.94zm-11 1L8.5 8.5l.94-2.06 2.06-.94-2.06-.94L8.5 2.5l-.94 2.06-2.06.94zm10 10l.94 2.06.94-2.06 2.06-.94-2.06-.94-.94-2.06-.94 2.06-2.06.94z\"/><path d=\"M17.41 7.96l-1.37-1.37c-.4-.4-.92-.59-1.43-.59-.52 0-1.04.2-1.43.59L10.3 9.45l-7.72 7.72c-.78.78-.78 2.05 0 2.83L4 21.41c.39.39.9.59 1.41.59.51 0 1.02-.2 1.41-.59l7.78-7.78 2.81-2.81c.8-.78.8-2.07 0-2.86zM5.41 20L4 18.59l7.72-7.72 1.47 1.35L5.41 20z\"/>\n",
              "  </svg>\n",
              "      </button>\n",
              "      \n",
              "  <style>\n",
              "    .colab-df-container {\n",
              "      display:flex;\n",
              "      flex-wrap:wrap;\n",
              "      gap: 12px;\n",
              "    }\n",
              "\n",
              "    .colab-df-convert {\n",
              "      background-color: #E8F0FE;\n",
              "      border: none;\n",
              "      border-radius: 50%;\n",
              "      cursor: pointer;\n",
              "      display: none;\n",
              "      fill: #1967D2;\n",
              "      height: 32px;\n",
              "      padding: 0 0 0 0;\n",
              "      width: 32px;\n",
              "    }\n",
              "\n",
              "    .colab-df-convert:hover {\n",
              "      background-color: #E2EBFA;\n",
              "      box-shadow: 0px 1px 2px rgba(60, 64, 67, 0.3), 0px 1px 3px 1px rgba(60, 64, 67, 0.15);\n",
              "      fill: #174EA6;\n",
              "    }\n",
              "\n",
              "    [theme=dark] .colab-df-convert {\n",
              "      background-color: #3B4455;\n",
              "      fill: #D2E3FC;\n",
              "    }\n",
              "\n",
              "    [theme=dark] .colab-df-convert:hover {\n",
              "      background-color: #434B5C;\n",
              "      box-shadow: 0px 1px 3px 1px rgba(0, 0, 0, 0.15);\n",
              "      filter: drop-shadow(0px 1px 2px rgba(0, 0, 0, 0.3));\n",
              "      fill: #FFFFFF;\n",
              "    }\n",
              "  </style>\n",
              "\n",
              "      <script>\n",
              "        const buttonEl =\n",
              "          document.querySelector('#df-7c21ec2e-1f54-414c-836d-9b95e99c13a2 button.colab-df-convert');\n",
              "        buttonEl.style.display =\n",
              "          google.colab.kernel.accessAllowed ? 'block' : 'none';\n",
              "\n",
              "        async function convertToInteractive(key) {\n",
              "          const element = document.querySelector('#df-7c21ec2e-1f54-414c-836d-9b95e99c13a2');\n",
              "          const dataTable =\n",
              "            await google.colab.kernel.invokeFunction('convertToInteractive',\n",
              "                                                     [key], {});\n",
              "          if (!dataTable) return;\n",
              "\n",
              "          const docLinkHtml = 'Like what you see? Visit the ' +\n",
              "            '<a target=\"_blank\" href=https://colab.research.google.com/notebooks/data_table.ipynb>data table notebook</a>'\n",
              "            + ' to learn more about interactive tables.';\n",
              "          element.innerHTML = '';\n",
              "          dataTable['output_type'] = 'display_data';\n",
              "          await google.colab.output.renderOutput(dataTable, element);\n",
              "          const docLink = document.createElement('div');\n",
              "          docLink.innerHTML = docLinkHtml;\n",
              "          element.appendChild(docLink);\n",
              "        }\n",
              "      </script>\n",
              "    </div>\n",
              "  </div>\n",
              "  "
            ]
          },
          "metadata": {},
          "execution_count": 25
        }
      ]
    },
    {
      "cell_type": "markdown",
      "source": [
        "Defining a function rmse_function to calculate the root mean squared error and another function gradient_descent to train the linear regression model."
      ],
      "metadata": {
        "id": "YRg5ocFcCjXy"
      }
    },
    {
      "cell_type": "code",
      "source": [
        "def rmse_function(x, y, theta):\n",
        "    \"\"\"X, Y and theta should be numpy arrays. This function gives the value of root mean squared error for the given training\n",
        "    and test data in Linear Regression for a particular value of theta. Theta is a numpy array containing values of parameters\"\"\"\n",
        "    n = len(y)\n",
        "    rmse = 0\n",
        "    for i in range(n):\n",
        "        rmse += (np.dot(x[i], theta)-y[i])**2\n",
        "    return int((rmse/n)**(1/2))\n",
        "\n",
        "def gradient_descent(x, y, theta, learning_rate, iterations):\n",
        "    \"\"\"This function implements the gradient descent algorithm. This function returns theta (parameters) obtained by using\n",
        "    the given learning rate and after given number of iterations. It also returns theta and RMSE (Root Mean Squared Error) obtained\n",
        "    after each iteration. This function can be modified to implement Ridge regression and LASSO regression\"\"\"\n",
        "    m = len(theta)\n",
        "    n = len(y)\n",
        "    theta_history = np.zeros((iterations, m))\n",
        "    rmse_history = np.zeros(iterations)\n",
        "    for k in range(iterations):\n",
        "        predictions = np.dot(x, theta.transpose())\n",
        "        for j in range(m):\n",
        "            func = 0\n",
        "            for i in range(n):\n",
        "                func += (y[i]-predictions[i])*x[i][j]\n",
        "            theta[j] = theta[j] + learning_rate*func\n",
        "        theta_history[k] = theta\n",
        "        rmse_history[k] = rmse_function(x, y, theta)\n",
        "    return theta, theta_history, rmse_history\n",
        "\n",
        "(n_rows, n_cols) = X_train.shape  # Now, converting X_train and Y_train pandas dataframe to numpy arrays\n",
        "x_numpy = np.zeros((n_rows, n_cols))\n",
        "index = 0\n",
        "for itr, rows in X_train.iterrows():\n",
        "  x_numpy[index] = rows\n",
        "  index += 1\n",
        "y_numpy = np.array(Y_train)"
      ],
      "metadata": {
        "id": "9pA004_znSm1"
      },
      "execution_count": 26,
      "outputs": []
    },
    {
      "cell_type": "markdown",
      "source": [
        "Using KFold from sklearn library to divide the 90% training data into 5 folds and then plotting rmse vs iterations graph for each of the 5 models on the validation set. Number of iterations taken is 1000 and learning_rate = 0.0001."
      ],
      "metadata": {
        "id": "4hwlJAO6Py-x"
      }
    },
    {
      "cell_type": "code",
      "source": [
        "from sklearn.model_selection import KFold\n",
        "theta_array = np.zeros((5, n_cols))  # Defining an array to store the theta values of the 5 models\n",
        "kf = KFold(n_splits = 5)\n",
        "model = 1\n",
        "for train_index, val_index in kf.split(x_numpy):\n",
        "  X_KFold_train, X_KFold_val = x_numpy[train_index], x_numpy[val_index]\n",
        "  Y_KFold_train, Y_KFold_val = y_numpy[train_index], y_numpy[val_index]\n",
        "  theta = np.zeros(n_cols)  # n_cols is the number of columns in the training data or dimensions of the training data\n",
        "  theta_regression, theta_h, rmse_h = gradient_descent(X_KFold_val, Y_KFold_val, theta, 0.0001, 1000)\n",
        "  theta_array[model-1] = theta_regression\n",
        "  x_axis = np.arange(0, 1000)\n",
        "  plt.plot(x_axis, rmse_h)\n",
        "  plt.title(\"RMSE vs Iterations plot for model \"+str(model)) \n",
        "  model += 1\n",
        "  plt.xlabel(\"Iterations\") \n",
        "  plt.ylabel(\"RMSE Values\")\n",
        "  plt.show()\n",
        "  plt.savefig(\"RMSE vs Iterations plot for model \"+str(model))"
      ],
      "metadata": {
        "colab": {
          "base_uri": "https://localhost:8080/",
          "height": 1000
        },
        "id": "dQv00WAmDDQy",
        "outputId": "86ba30e7-9891-404c-97ec-4d6c2c4d533d"
      },
      "execution_count": 27,
      "outputs": [
        {
          "output_type": "display_data",
          "data": {
            "text/plain": [
              "<Figure size 432x288 with 1 Axes>"
            ],
            "image/png": "[encoded data removed]"
          },
          "metadata": {
            "needs_background": "light"
          }
        },
        {
          "output_type": "display_data",
          "data": {
            "text/plain": [
              "<Figure size 432x288 with 1 Axes>"
            ],
            "image/png": "[encoded data removed]"
          },
          "metadata": {
            "needs_background": "light"
          }
        },
        {
          "output_type": "display_data",
          "data": {
            "text/plain": [
              "<Figure size 432x288 with 1 Axes>"
            ],
            "image/png": "[encoded data removed]"
          },
          "metadata": {
            "needs_background": "light"
          }
        },
        {
          "output_type": "display_data",
          "data": {
            "text/plain": [
              "<Figure size 432x288 with 1 Axes>"
            ],
            "image/png": "[encoded data removed]"
          },
          "metadata": {
            "needs_background": "light"
          }
        },
        {
          "output_type": "display_data",
          "data": {
            "text/plain": [
              "<Figure size 432x288 with 1 Axes>"
            ],
            "image/png": "[encoded data removed]"
          },
          "metadata": {
            "needs_background": "light"
          }
        },
        {
          "output_type": "display_data",
          "data": {
            "text/plain": [
              "<Figure size 432x288 with 0 Axes>"
            ]
          },
          "metadata": {}
        }
      ]
    },
    {
      "cell_type": "markdown",
      "source": [
        "Now defining a function for Ridge Regression. Number of iterations = 1000, learning rate = 0.0001 and ridge_parameter = 10. Also, using KFold for dividing the dataset into 5 parts and plotting rmse vs iterations graph on the validation set for each model."
      ],
      "metadata": {
        "id": "zXqakri4vJic"
      }
    },
    {
      "cell_type": "code",
      "source": [
        "def ridge_gradient_descent(x, y, theta, learning_rate, iterations, ridge_parameter):\n",
        "    m = len(theta)\n",
        "    n = len(y)\n",
        "    theta_history = np.zeros((iterations, m))\n",
        "    rmse_history = np.zeros(iterations)\n",
        "    for k in range(iterations):\n",
        "        predictions = np.dot(x, theta.transpose())\n",
        "        for j in range(m):\n",
        "            func = 0\n",
        "            for i in range(n):\n",
        "                func += (y[i]-predictions[i])*x[i][j]\n",
        "            theta[j] = theta[j] + learning_rate*func - learning_rate*ridge_parameter*theta[j]\n",
        "        theta_history[k] = theta\n",
        "        rmse_history[k] = rmse_function(x, y, theta)\n",
        "    return theta, theta_history, rmse_history\n",
        "\n",
        "theta_array_ridge = np.zeros((5, n_cols))  # Defining an array to store the theta values of the 5 models using Ridge Regression\n",
        "model = 1\n",
        "for train_index, val_index in kf.split(x_numpy):\n",
        "  X_KFold_train, X_KFold_val = x_numpy[train_index], x_numpy[val_index]\n",
        "  Y_KFold_train, Y_KFold_val = y_numpy[train_index], y_numpy[val_index]\n",
        "  theta = np.zeros(n_cols)  # n_cols is the number of columns in the training data or dimensions of the training data\n",
        "  theta_ridge_regression, theta_h, rmse_h = ridge_gradient_descent(X_KFold_val, Y_KFold_val, theta, 0.0001, 1000, 10)\n",
        "  theta_array_ridge[model-1] = theta_ridge_regression\n",
        "  x_axis = np.arange(0, 1000)\n",
        "  plt.plot(x_axis, rmse_h)\n",
        "  plt.title(\"RMSE vs Iterations plot for model \"+str(model)+\" using Ridge Regression\") \n",
        "  model += 1\n",
        "  plt.xlabel(\"Iterations\") \n",
        "  plt.ylabel(\"RMSE Values\")\n",
        "  plt.show()"
      ],
      "metadata": {
        "colab": {
          "base_uri": "https://localhost:8080/",
          "height": 1000
        },
        "id": "F7-BVrdEvPKE",
        "outputId": "1a928339-2012-4457-d8f3-ef0c195e14b6"
      },
      "execution_count": 28,
      "outputs": [
        {
          "output_type": "display_data",
          "data": {
            "text/plain": [
              "<Figure size 432x288 with 1 Axes>"
            ],
            "image/png": "[encoded data removed]"
          },
          "metadata": {
            "needs_background": "light"
          }
        },
        {
          "output_type": "display_data",
          "data": {
            "text/plain": [
              "<Figure size 432x288 with 1 Axes>"
            ],
            "image/png": "[encoded data removed]"
          },
          "metadata": {
            "needs_background": "light"
          }
        },
        {
          "output_type": "display_data",
          "data": {
            "text/plain": [
              "<Figure size 432x288 with 1 Axes>"
            ],
            "image/png": "[encoded data removed]"
          },
          "metadata": {
            "needs_background": "light"
          }
        },
        {
          "output_type": "display_data",
          "data": {
            "text/plain": [
              "<Figure size 432x288 with 1 Axes>"
            ],
            "image/png": "[encoded data removed]"
          },
          "metadata": {
            "needs_background": "light"
          }
        },
        {
          "output_type": "display_data",
          "data": {
            "text/plain": [
              "<Figure size 432x288 with 1 Axes>"
            ],
            "image/png": "[encoded data removed]"
          },
          "metadata": {
            "needs_background": "light"
          }
        }
      ]
    },
    {
      "cell_type": "markdown",
      "source": [
        "Defining a function for LASSO regression. Number of iterations = 1000, learning rate = 0.0001 and LASSO parameter = 10. A sign_function is also defined which is used in updating the value of theta in lasso_gradient_descent. After that, KFold is used to divide the training set into 5 folds and rmse vs iteration graph is plotted on the validation set of each fold."
      ],
      "metadata": {
        "id": "waYitYOH1JTh"
      }
    },
    {
      "cell_type": "code",
      "source": [
        "def sign_function(theta):\n",
        "  if(theta<0):\n",
        "    return -1\n",
        "  elif(theta>0):\n",
        "    return 1\n",
        "  else:\n",
        "    return 0\n",
        "\n",
        "def lasso_gradient_descent(x, y, theta, learning_rate, iterations, lasso_parameter):\n",
        "    m = len(theta)\n",
        "    n = len(y)\n",
        "    theta_history = np.zeros((iterations, m))\n",
        "    rmse_history = np.zeros(iterations)\n",
        "    for k in range(iterations):\n",
        "        predictions = np.dot(x, theta.transpose())\n",
        "        for j in range(m):\n",
        "            func = 0\n",
        "            for i in range(n):\n",
        "                func += (y[i]-predictions[i])*x[i][j]\n",
        "            theta[j] = theta[j] + learning_rate*func - learning_rate*lasso_parameter*sign_function(theta[j])\n",
        "        theta_history[k] = theta\n",
        "        rmse_history[k] = rmse_function(x, y, theta)\n",
        "    return theta, theta_history, rmse_history\n",
        "\n",
        "theta_array_lasso = np.zeros((5, n_cols))  # Defining an array to store the theta values of the 5 models using LASSO Regression\n",
        "model = 1\n",
        "for train_index, val_index in kf.split(x_numpy):\n",
        "  X_KFold_train, X_KFold_val = x_numpy[train_index], x_numpy[val_index]\n",
        "  Y_KFold_train, Y_KFold_val = y_numpy[train_index], y_numpy[val_index]\n",
        "  theta = np.zeros(n_cols)  # n_cols is the number of columns in the training data or dimensions of the training data\n",
        "  theta_LASSO_regression, theta_h, rmse_h = lasso_gradient_descent(X_KFold_val, Y_KFold_val, theta, 0.0001, 1000, 10)\n",
        "  theta_array_lasso[model-1] = theta_LASSO_regression\n",
        "  x_axis = np.arange(0, 1000)\n",
        "  plt.plot(x_axis, rmse_h)\n",
        "  plt.title(\"RMSE vs Iterations plot for model \"+str(model)+\" using LASSO Regression\") \n",
        "  model += 1\n",
        "  plt.xlabel(\"Iterations\") \n",
        "  plt.ylabel(\"RMSE Values\")\n",
        "  plt.show()"
      ],
      "metadata": {
        "id": "yMDRpMH4UJDI",
        "colab": {
          "base_uri": "https://localhost:8080/",
          "height": 1000
        },
        "outputId": "0e553c98-88f9-4afc-a6c1-eec34efb59dc"
      },
      "execution_count": 29,
      "outputs": [
        {
          "output_type": "display_data",
          "data": {
            "text/plain": [
              "<Figure size 432x288 with 1 Axes>"
            ],
            "image/png": "[encoded data removed]"
          },
          "metadata": {
            "needs_background": "light"
          }
        },
        {
          "output_type": "display_data",
          "data": {
            "text/plain": [
              "<Figure size 432x288 with 1 Axes>"
            ],
            "image/png": "[encoded data removed]"
          },
          "metadata": {
            "needs_background": "light"
          }
        },
        {
          "output_type": "display_data",
          "data": {
            "text/plain": [
              "<Figure size 432x288 with 1 Axes>"
            ],
            "image/png": "[encoded data removed]"
          },
          "metadata": {
            "needs_background": "light"
          }
        },
        {
          "output_type": "display_data",
          "data": {
            "text/plain": [
              "<Figure size 432x288 with 1 Axes>"
            ],
            "image/png": "[encoded data removed]"
          },
          "metadata": {
            "needs_background": "light"
          }
        },
        {
          "output_type": "display_data",
          "data": {
            "text/plain": [
              "<Figure size 432x288 with 1 Axes>"
            ],
            "image/png": "[encoded data removed]"
          },
          "metadata": {
            "needs_background": "light"
          }
        }
      ]
    },
    {
      "cell_type": "markdown",
      "source": [
        "Now, computing the average RMSE for linear regression, ridge regression and LASSO regression by taking the average of rmse for each of the 5 models obtianed from KFold."
      ],
      "metadata": {
        "id": "ojIUUL65Gtv8"
      }
    },
    {
      "cell_type": "code",
      "source": [
        "X_test_numpy = np.array(X_test)\n",
        "Y_test_numpy = np.array(Y_test)\n",
        "rmse_sum = 0\n",
        "\n",
        "for k in range(5):\n",
        "  predictions = np.dot(X_test_numpy, theta_array[k])\n",
        "  rmse_sum += np.sqrt(((Y_test_numpy-predictions)**2).mean())\n",
        "avg_rmse = (rmse_sum/5)\n",
        "print(\"Average RMSE for Linear Regression Model = \"+str(avg_rmse))"
      ],
      "metadata": {
        "colab": {
          "base_uri": "https://localhost:8080/"
        },
        "id": "1dR6k6Fu2Ygv",
        "outputId": "c3f54f80-a149-49b8-aac4-bbc45f423aca"
      },
      "execution_count": 30,
      "outputs": [
        {
          "output_type": "stream",
          "name": "stdout",
          "text": [
            "Average RMSE for Linear Regression Model = 2.475253063953548\n"
          ]
        }
      ]
    },
    {
      "cell_type": "code",
      "source": [
        "rmse_sum = 0\n",
        "for k in range(5):\n",
        "  predictions = np.dot(X_test_numpy, theta_array_ridge[k])\n",
        "  rmse_sum += np.sqrt(((Y_test_numpy-predictions)**2).mean())\n",
        "avg_rmse = (rmse_sum/5)\n",
        "print(\"Average RMSE for Ridge Regression Model = \"+str(avg_rmse))"
      ],
      "metadata": {
        "colab": {
          "base_uri": "https://localhost:8080/"
        },
        "id": "tO_5Q_HCBTTg",
        "outputId": "b7792ef5-2651-4c13-8152-246ff2fd64e1"
      },
      "execution_count": 31,
      "outputs": [
        {
          "output_type": "stream",
          "name": "stdout",
          "text": [
            "Average RMSE for Ridge Regression Model = 2.528538505459113\n"
          ]
        }
      ]
    },
    {
      "cell_type": "code",
      "source": [
        "rmse_sum = 0\n",
        "for k in range(5):\n",
        "  predictions = np.dot(X_test_numpy, theta_array_lasso[k])\n",
        "  rmse_sum += np.sqrt(((Y_test_numpy-predictions)**2).mean())\n",
        "avg_rmse = (rmse_sum/5)\n",
        "print(\"Average RMSE for LASSO Regression Model = \"+str(avg_rmse))"
      ],
      "metadata": {
        "colab": {
          "base_uri": "https://localhost:8080/"
        },
        "id": "OwOXfQZGFp9d",
        "outputId": "039c2de5-12de-4a17-c9b5-dc3e19c32c58"
      },
      "execution_count": 32,
      "outputs": [
        {
          "output_type": "stream",
          "name": "stdout",
          "text": [
            "Average RMSE for LASSO Regression Model = 2.5005244037557146\n"
          ]
        }
      ]
    },
    {
      "cell_type": "markdown",
      "source": [
        "Using sklearn linear regression to train the 5 folds obtained from KFold and reporting their validation set rmse and test set rmse."
      ],
      "metadata": {
        "id": "T13boR66bSTm"
      }
    },
    {
      "cell_type": "code",
      "source": [
        "from sklearn.linear_model import LinearRegression\n",
        "model_no = 1\n",
        "\n",
        "for train_index, val_index in kf.split(x_numpy):\n",
        "  X_KFold_train, X_KFold_val = x_numpy[train_index], x_numpy[val_index]\n",
        "  Y_KFold_train, Y_KFold_val = y_numpy[train_index], y_numpy[val_index]\n",
        "  reg = LinearRegression(fit_intercept = True)\n",
        "  model = reg.fit(X_KFold_train, Y_KFold_train)\n",
        "  predictions = model.predict(X_KFold_val)\n",
        "  val_set_rmse = np.sqrt(((Y_KFold_val-predictions)**2).mean())\n",
        "  print(\"RMSE on the validation set = \"+str(val_set_rmse)+\" for model \"+str(model_no))\n",
        "  predictions = model.predict(X_test_numpy)\n",
        "  test_set_rmse = np.sqrt(((Y_test_numpy-predictions)**2).mean())\n",
        "  print(\"RMSE on the test set = \"+str(test_set_rmse)+\" for model \"+str(model_no))\n",
        "  model_no += 1"
      ],
      "metadata": {
        "colab": {
          "base_uri": "https://localhost:8080/"
        },
        "id": "mO_oDkFmHX1o",
        "outputId": "1988cac3-3e31-4e67-b1db-56963e670e69"
      },
      "execution_count": 33,
      "outputs": [
        {
          "output_type": "stream",
          "name": "stdout",
          "text": [
            "RMSE on the validation set = 2.1643091394239926 for model 1\n",
            "RMSE on the test set = 2.1801559437610654 for model 1\n",
            "RMSE on the validation set = 2.272277853117392 for model 2\n",
            "RMSE on the test set = 2.1637722427790402 for model 2\n",
            "RMSE on the validation set = 2.2970106532324603 for model 3\n",
            "RMSE on the test set = 2.174370480114461 for model 3\n",
            "RMSE on the validation set = 2.1727627385547326 for model 4\n",
            "RMSE on the test set = 2.1761566153160876 for model 4\n",
            "RMSE on the validation set = 2.241203784999549 for model 5\n",
            "RMSE on the test set = 2.172676916643001 for model 5\n"
          ]
        }
      ]
    },
    {
      "cell_type": "markdown",
      "source": [
        "Using closed form implementation of linear regression and reporting their validation set accuracy on the 5 folds obtained from KFold."
      ],
      "metadata": {
        "id": "GmuOWmOibgow"
      }
    },
    {
      "cell_type": "code",
      "source": [
        "def closed_form(x, y):\n",
        "  theta = np.dot(np.linalg.inv(np.dot(x.transpose(), x)), np.dot(x.transpose(), y))\n",
        "  return theta\n",
        "\n",
        "model_no = 1\n",
        "for train_index, val_index in kf.split(x_numpy):\n",
        "  X_KFold_train, X_KFold_val = x_numpy[train_index], x_numpy[val_index]\n",
        "  Y_KFold_train, Y_KFold_val = y_numpy[train_index], y_numpy[val_index]\n",
        "  theta = closed_form(X_KFold_train, Y_KFold_train)\n",
        "  predictions = np.dot(X_KFold_val, theta)\n",
        "  val_set_rmse = np.sqrt(((Y_KFold_val-predictions)**2).mean())\n",
        "  print(\"RMSE on the validation set = \"+str(val_set_rmse)+\" for model \"+str(model_no))\n",
        "  model_no += 1"
      ],
      "metadata": {
        "colab": {
          "base_uri": "https://localhost:8080/"
        },
        "id": "bJQqhGvlReiE",
        "outputId": "abbc647f-e3ea-4c07-fe68-3cb8de8b4333"
      },
      "execution_count": 34,
      "outputs": [
        {
          "output_type": "stream",
          "name": "stdout",
          "text": [
            "RMSE on the validation set = 2.1644766773002835 for model 1\n",
            "RMSE on the validation set = 2.272556487617077 for model 2\n",
            "RMSE on the validation set = 2.296426732412156 for model 3\n",
            "RMSE on the validation set = 2.1733495057545826 for model 4\n",
            "RMSE on the validation set = 2.243351806025811 for model 5\n"
          ]
        }
      ]
    }
  ]
}